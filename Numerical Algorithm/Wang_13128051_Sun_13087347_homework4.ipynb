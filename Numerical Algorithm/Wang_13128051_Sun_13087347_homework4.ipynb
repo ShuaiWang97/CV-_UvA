{
 "cells": [
  {
   "cell_type": "markdown",
   "metadata": {},
   "source": [
    "Before you turn this problem in, make sure everything runs as expected. First, **restart the kernel** (in the menubar, select Kernel$\\rightarrow$Restart) and then **run all cells** (in the menubar, select Cell$\\rightarrow$Run All).\n",
    "\n",
    "Make sure you fill in any place that says `YOUR CODE HERE` or \"YOUR ANSWER HERE\", as well as your name and collaborators below:"
   ]
  },
  {
   "cell_type": "markdown",
   "metadata": {},
   "source": [
    "---"
   ]
  },
  {
   "cell_type": "markdown",
   "metadata": {
    "deletable": false,
    "editable": false,
    "nbgrader": {
     "cell_type": "markdown",
     "checksum": "4df557ad28174a618af9f726e4540b83",
     "grade": false,
     "grade_id": "cell-08c497a7a86f3461",
     "locked": true,
     "schema_version": 3,
     "solution": false,
     "task": false
    }
   },
   "source": [
    "Please **submit this Jupyter notebook through Canvas** no later than **Monday November 23 12:59**, before the start of the lecture.\n",
    "\n",
    "Homework is in **groups of two**, and you are expected to hand in original work. Work that is copied from another group will not be accepted."
   ]
  },
  {
   "cell_type": "markdown",
   "metadata": {
    "deletable": false,
    "editable": false,
    "nbgrader": {
     "cell_type": "markdown",
     "checksum": "18cb508a2f7cf4b39f1f84cc77038b54",
     "grade": false,
     "grade_id": "cell-98acc141543bb30d",
     "locked": true,
     "schema_version": 3,
     "solution": false,
     "task": false
    }
   },
   "source": [
    "# Exercise 0\n",
    "Write down the names + student ID of the people in your group."
   ]
  },
  {
   "cell_type": "markdown",
   "metadata": {
    "deletable": false,
    "nbgrader": {
     "cell_type": "markdown",
     "checksum": "0ddb7fc269415d6fba569c0b98128fa6",
     "grade": true,
     "grade_id": "cell-ccf233138bb8e912",
     "locked": false,
     "points": 0,
     "schema_version": 3,
     "solution": true,
     "task": false
    }
   },
   "source": [
    "WENBO SUN 13087347 \\\n",
    "SHUAI WANG 13128051"
   ]
  },
  {
   "cell_type": "code",
   "execution_count": 1,
   "metadata": {
    "deletable": false,
    "editable": false,
    "nbgrader": {
     "cell_type": "code",
     "checksum": "6bac44a5cf68c5f713be98c815a00afd",
     "grade": false,
     "grade_id": "cell-c8276f063a1af795",
     "locked": true,
     "schema_version": 3,
     "solution": false,
     "task": false
    }
   },
   "outputs": [],
   "source": [
    "# Evaluate this cell to import necessary packages\n",
    "import numpy as np\n",
    "import matplotlib.pyplot as plt\n",
    "import math"
   ]
  },
  {
   "cell_type": "markdown",
   "metadata": {
    "deletable": false,
    "editable": false,
    "nbgrader": {
     "cell_type": "markdown",
     "checksum": "11264bab706af3653a6485666327d7dc",
     "grade": false,
     "grade_id": "cell-6eba62a7cb421695",
     "locked": true,
     "schema_version": 3,
     "solution": false,
     "task": false
    }
   },
   "source": [
    "# Sparse matrices\n",
    "A _sparse matrix_ or _sparse array_ is a matrix in which most of the elements are zero. There is no strict definition how many elements need to be zero for a matrix to be considered sparse but a common criterion is that the number of non-zero elements is roughly the number of rows or columns. By contrast, if most of the elements are nonzero, then the matrix is considered _dense_. \n",
    "\n",
    "In the context of software for scientific computing, a sparse matrix typically refers to a storage format, in which elements which are known to be zero are not stored. In Python, the library `scipy.sparse` defines several sparse matrix classes, such as `scipy.sparse.coo_matrix`. To construct such an object, one passes for each nonzero element the value, and the row and column coordinates. In some cases, one can also just pass the nonzero (off-)diagonals, see `scipy.sparse.diags`.\n",
    "\n",
    "Functions for dense matrices do not always work with sparse matrices. For example for the product of a sparse matrix with a (dense) vector, there is the member function `scipy.sparse.coo_matrix.dot`, and for solving linear equations involving a sparse matrix, there is the function `scipy.sparse.linalg.spsolve`."
   ]
  },
  {
   "cell_type": "code",
   "execution_count": 2,
   "metadata": {},
   "outputs": [
    {
     "name": "stdout",
     "output_type": "stream",
     "text": [
      "When printing a sparse matrix, it shows its nonzero entries:\n",
      "  (0, 0)\t4.0\n",
      "  (3, 3)\t5.0\n",
      "  (1, 1)\t7.0\n",
      "  (0, 2)\t9.0\n",
      "If you want to see its `dense` matrix form, you have to use `mat.toarray()`:\n",
      "[[4. 0. 9. 0.]\n",
      " [0. 7. 0. 0.]\n",
      " [0. 0. 0. 0.]\n",
      " [0. 0. 0. 5.]]\n",
      "For x=[1 2 3 4], Mx = [31. 14.  0. 20.]\n"
     ]
    }
   ],
   "source": [
    "from scipy.sparse import coo_matrix\n",
    "\n",
    "# This is how to create a sparse matrix from a given list of (row, column, value) tuples.\n",
    "row  = [0,   3,   1,   0]\n",
    "col  = [0,   3,   1,   2]\n",
    "data = [4.0, 5.0, 7.0, 9.0]\n",
    "M = coo_matrix((data, (row, col)), shape=(4, 4))\n",
    "\n",
    "print(\"When printing a sparse matrix, it shows its nonzero entries:\")\n",
    "print(M)\n",
    "\n",
    "print(\"If you want to see its `dense` matrix form, you have to use `mat.toarray()`:\")\n",
    "print(M.toarray())\n",
    "\n",
    "# This is how to perform matrix-vector products.\n",
    "x = np.array([1, 2, 3, 4])\n",
    "print(\"For x={}, Mx = {}\".format(x, M.dot(x)))"
   ]
  },
  {
   "cell_type": "code",
   "execution_count": 3,
   "metadata": {},
   "outputs": [
    {
     "name": "stdout",
     "output_type": "stream",
     "text": [
      "This matrix has values on its diagonal and on offdiagonals 1 and 2 rows ABOVE it.\n",
      "[[1. 1. 1. 0.]\n",
      " [0. 2. 2. 2.]\n",
      " [0. 0. 3. 3.]\n",
      " [0. 0. 0. 4.]]\n",
      "This matrix has values on its diagonal and on offdiagonals 1 and 2 rows BELOW it.\n",
      "[[1. 0. 0. 0.]\n",
      " [1. 2. 0. 0.]\n",
      " [1. 2. 3. 0.]\n",
      " [0. 2. 3. 4.]]\n",
      "If you want to visualize the matrix for yourself, use `plt.imshow`:\n"
     ]
    },
    {
     "data": {
      "image/png": "[encoded data removed]",
      "text/plain": [
       "<Figure size 432x288 with 2 Axes>"
      ]
     },
     "metadata": {
      "needs_background": "light"
     },
     "output_type": "display_data"
    },
    {
     "name": "stdout",
     "output_type": "stream",
     "text": [
      "For b=[1 2 3 4], the solution x to Mx=b is [1.         0.5        0.33333333 0.5       ]\n",
      "And indeed, Mx - b = [0. 0. 0. 0.]\n"
     ]
    }
   ],
   "source": [
    "from scipy.sparse import diags, SparseEfficiencyWarning\n",
    "from scipy.sparse.linalg import spsolve\n",
    "import warnings\n",
    "warnings.simplefilter('ignore', SparseEfficiencyWarning)  # Suppress confusing warning\n",
    "\n",
    "# This is how to create a sparse matrix from a given list of subdiagonals.\n",
    "diagonals = [[1, 2, 3, 4], [1, 2, 3], [1, 2]]\n",
    "M = diags(diagonals, [0, 1, 2])\n",
    "print(\"This matrix has values on its diagonal and on offdiagonals 1 and 2 rows ABOVE it.\")\n",
    "print(M.toarray())\n",
    "\n",
    "M = diags(diagonals, [0, -1, -2])\n",
    "print(\"This matrix has values on its diagonal and on offdiagonals 1 and 2 rows BELOW it.\")\n",
    "print(M.toarray())\n",
    "\n",
    "print(\"If you want to visualize the matrix for yourself, use `plt.imshow`:\")\n",
    "plt.imshow(M.toarray())\n",
    "plt.colorbar()\n",
    "plt.show()\n",
    "\n",
    "# This is how to solve sparse systems.\n",
    "b = np.array([1, 2, 3, 4])\n",
    "x = spsolve(M, b)\n",
    "print(\"For b={}, the solution x to Mx=b is {}\".format(b, x))\n",
    "print(\"And indeed, Mx - b = {}\".format(M.dot(x) - b))"
   ]
  },
  {
   "cell_type": "markdown",
   "metadata": {
    "deletable": false,
    "editable": false,
    "nbgrader": {
     "cell_type": "markdown",
     "checksum": "3dc2d12a81fc8a848811fbda79d6a0e2",
     "grade": false,
     "grade_id": "cell-8b89ecb36f584411",
     "locked": true,
     "schema_version": 3,
     "solution": false,
     "task": false
    }
   },
   "source": [
    "--------\n",
    "# Exercise 1\n",
    "Consider the following boundary value problem involving a nonlinear ordinary differential equation:\n",
    "\n",
    "$$ \\tag{1} y''(x) + \\exp(y(x)) = 0, \\quad 0 < x < 1, \\quad y(0) = y(1) = 0.$$\n",
    "\n",
    "The purpose of this exercise is to approximate the solution to this boundary value problem, by discretizing the problem and then solving the resulting system of nonlinear equations. "
   ]
  },
  {
   "cell_type": "markdown",
   "metadata": {
    "deletable": false,
    "editable": false,
    "nbgrader": {
     "cell_type": "markdown",
     "checksum": "4e46d45e2e32295012a06f2b9d755065",
     "grade": false,
     "grade_id": "cell-5aec7cf5770da0f2",
     "locked": true,
     "schema_version": 3,
     "solution": false,
     "task": false
    }
   },
   "source": [
    "Problem (1) will be discretized using finite differences. Suppose we use $n+2$ discretization points for $x$, denoted $x_k = kh$ for $k \\in \\{0, \\ldots, n+1\\}$ and $h = 1/(n+1)$. The approximate solution is denoted $y_k = y(x_k)$. \n",
    "\n",
    "We will use a _second-order central finite difference_ approximation for the second derivative: \n",
    "\n",
    "$$ \\tag{2} y''(x_k) \\approx \\frac{y_{k-1} - 2 y_k + y_{k+1}}{h^2}.$$\n",
    "\n",
    "The term $\\exp(y(x_k))$ can simply be approximated by $\\exp(y_k)$. Thus for $x=x_k$, equation (1) becomes\n",
    "\n",
    "$$ \\tag{3} \\frac{y_{k-1} - 2 y_k + y_{k+1}}{h^2} + \\exp y_k = 0, \\quad k = 1, \\ldots, n.$$\n",
    "\n",
    "The boundary conditions (the conditions $y(0) = y(1) = 1$), lead to the requirement that $y_0 = y_{n+1} = 0$. To find the remaining values $y_k$, $k=1, \\ldots, n$, equation (3) will be used for $k = 1, \\ldots, n$. In this way, one obtains $n$ equations for $n$ unknowns, to which, in principle, a rootfinding method can be applied.\n",
    "\n",
    "We will write $\\vec y = \\begin{bmatrix} y_1 \\\\ \\vdots \\\\ y_n \\end{bmatrix}$ for the vector of values to be determined. \n"
   ]
  },
  {
   "cell_type": "markdown",
   "metadata": {
    "deletable": false,
    "editable": false,
    "nbgrader": {
     "cell_type": "markdown",
     "checksum": "189935d3bdaedbdc19f1bd51cc1514ab",
     "grade": false,
     "grade_id": "cell-0ff3f6bee1fe1468",
     "locked": true,
     "schema_version": 3,
     "solution": false,
     "task": false
    }
   },
   "source": [
    "## (a) -- 2 points\n",
    "As a first step, finish the function `SecondDerMatrix` that returns a matrix $\\bf{M}$ that maps the vector $\\vec y$ to the vector of the approximate values $y''(x_k)$, $k=1, \\ldots, n$ given in (2). To get full points for this part of the exercise you must create output in the form of a sparse matrix."
   ]
  },
  {
   "cell_type": "code",
   "execution_count": 4,
   "metadata": {
    "deletable": false,
    "nbgrader": {
     "cell_type": "code",
     "checksum": "375341edfdca1c3f6868a8490383fb0d",
     "grade": true,
     "grade_id": "cell-9e0733e191b315a4",
     "locked": false,
     "points": 2,
     "schema_version": 3,
     "solution": true,
     "task": false
    }
   },
   "outputs": [
    {
     "name": "stdout",
     "output_type": "stream",
     "text": [
      "[[-242.  121.    0.    0.    0.    0.    0.    0.    0.    0.]\n",
      " [ 121. -242.  121.    0.    0.    0.    0.    0.    0.    0.]\n",
      " [   0.  121. -242.  121.    0.    0.    0.    0.    0.    0.]\n",
      " [   0.    0.  121. -242.  121.    0.    0.    0.    0.    0.]\n",
      " [   0.    0.    0.  121. -242.  121.    0.    0.    0.    0.]\n",
      " [   0.    0.    0.    0.  121. -242.  121.    0.    0.    0.]\n",
      " [   0.    0.    0.    0.    0.  121. -242.  121.    0.    0.]\n",
      " [   0.    0.    0.    0.    0.    0.  121. -242.  121.    0.]\n",
      " [   0.    0.    0.    0.    0.    0.    0.  121. -242.  121.]\n",
      " [   0.    0.    0.    0.    0.    0.    0.    0.  121. -242.]]\n"
     ]
    }
   ],
   "source": [
    "from scipy.sparse import coo_matrix\n",
    "\n",
    "def SecondDerMatrix(n):\n",
    "    h=1/(n+1)\n",
    "    value=np.array([-2,1])\n",
    "    x=np.array([0,0])\n",
    "    y=np.array([0,1])\n",
    "    tail_value=np.array([1,-2])\n",
    "    tail_x=np.array([n-1,n-1])\n",
    "    tail_y=np.array([n-2,n-1])\n",
    "    for i in range(1,n-1):\n",
    "        value=np.append(value,[1,-2,1])\n",
    "        x=np.append(x,[i,i,i])\n",
    "        y=np.append(y,[i-1,i,i+1])\n",
    "    value=np.append(value,tail_value)/(h**2)\n",
    "    x=np.append(x,tail_x)\n",
    "    y=np.append(y,tail_y)\n",
    "    return coo_matrix((value, (x, y)), shape=(n, n))\n",
    "print(SecondDerMatrix(10).toarray())    "
   ]
  },
  {
   "cell_type": "markdown",
   "metadata": {
    "deletable": false,
    "editable": false,
    "nbgrader": {
     "cell_type": "markdown",
     "checksum": "40ac1c07025e88bb2bf53e8b79e6f037",
     "grade": false,
     "grade_id": "cell-ad2bd1424fe88df2",
     "locked": true,
     "schema_version": 3,
     "solution": false,
     "task": false
    }
   },
   "source": [
    "## (b) -- 1 point\n",
    "Second-order central finite differences are exact for quadratic functions. In order to test your implementation, choose $n=10$ and apply the second derivative matrix from part (a) to a quadratic function $y(x)$ with $y(0) = y(1) = 0$ for which you know the second derivative $y''(x)$."
   ]
  },
  {
   "cell_type": "code",
   "execution_count": 47,
   "metadata": {
    "deletable": false,
    "nbgrader": {
     "cell_type": "code",
     "checksum": "b254d24b03b6f103627a82912d2547b2",
     "grade": true,
     "grade_id": "cell-7c63d2bb91a3a7cd",
     "locked": false,
     "points": 1,
     "schema_version": 3,
     "solution": true,
     "task": false
    }
   },
   "outputs": [
    {
     "name": "stdout",
     "output_type": "stream",
     "text": [
      "The values of x are:\n",
      "[0.09090909 0.18181818 0.27272727 0.36363636 0.45454545 0.54545455\n",
      " 0.63636364 0.72727273 0.81818182 0.90909091]\n",
      "\n",
      "The values of y'' are:\n",
      "[-2.36363636 -0.72727273  0.90909091  2.54545455  4.18181818  5.81818182\n",
      "  7.45454545  9.09090909 10.72727273 12.36363636]\n",
      "\n",
      "The values of central-limit approximation are:\n",
      "[-2.36363636 -0.72727273  0.90909091  2.54545455  4.18181818  5.81818182\n",
      "  7.45454545  9.09090909 10.72727273 12.36363636]\n",
      "\n",
      "The difference between actual y'' and approximation is:\n",
      "1.5212826690557915e-13\n",
      "\n"
     ]
    }
   ],
   "source": [
    "## YOUR CODE HERE\n",
    "'y=3x^3-2x^2-x'\n",
    "'d2y=18x-4'\n",
    "n=10\n",
    "h=1/(1+n)\n",
    "inputs=np.arange(h,1,h)\n",
    "trivals=np.array(list(map(lambda i:18*i-4,inputs)))\n",
    "origin=np.array(list(map(lambda i:3*i**3-2*i**2-i,inputs)))\n",
    "impl=SecondDerMatrix(n).dot(origin)\n",
    "print(f\"The values of x are:\\n{inputs}\\n\")\n",
    "print(f\"The values of y\\'\\' are:\\n{trivals}\\n\")\n",
    "print(f\"The values of central-limit approximation are:\\n{impl}\\n\")\n",
    "print(f\"The difference between actual y\\'\\' and approximation is:\\n{np.linalg.norm(impl-trivals,2)}\\n\")"
   ]
  },
  {
   "cell_type": "markdown",
   "metadata": {
    "deletable": false,
    "editable": false,
    "nbgrader": {
     "cell_type": "markdown",
     "checksum": "47f9704469bf9fe325635d9d9e9e8e98",
     "grade": false,
     "grade_id": "cell-6a9db0454b25e6c0",
     "locked": true,
     "schema_version": 3,
     "solution": false,
     "task": false
    }
   },
   "source": [
    "## (c) -- 2 points\n",
    "\n",
    "\n",
    "Defining $\\vec y = \\begin{bmatrix} y_1 \\\\ \\vdots \\\\ y_n \\end{bmatrix}$ and \n",
    "$E(\\vec y) = \\begin{bmatrix} \\exp(y_1) \\\\ \\vdots \\\\ \\exp(y_n) \\end{bmatrix}$, the equations (3) can be written in the form\n",
    "\n",
    "$$ F(\\vec y) := {\\bf M} \\cdot \\vec y + E(\\vec y) = \\vec 0. $$\n",
    "\n",
    "Finish the function `F` that defines $F(\\vec y) = {\\bf M} \\cdot \\vec y + E(\\vec y)$.\n",
    "Finish the function `JacobianF` that computes the Jacobian ${\\bf J}_F(\\vec y)$ of $F(\\vec y)$.\n",
    "To get full points for this part of the exercise, the Jacobian must be computed in the form of a sparse matrix."
   ]
  },
  {
   "cell_type": "code",
   "execution_count": 65,
   "metadata": {
    "deletable": false,
    "nbgrader": {
     "cell_type": "code",
     "checksum": "14ccab984a2311bdd95071739b86903b",
     "grade": true,
     "grade_id": "cell-d421a544453be84a",
     "locked": false,
     "points": 2,
     "schema_version": 3,
     "solution": true,
     "task": false
    }
   },
   "outputs": [],
   "source": [
    "def F(y):\n",
    "    shape=len(y)\n",
    "    M=SecondDerMatrix(shape)\n",
    "    return M.dot(y)+np.exp(y)\n",
    "    \n",
    "def JacobianF(y):\n",
    "    n=len(y)\n",
    "    h=1/(n+1)\n",
    "    a=1/h**2\n",
    "    b=lambda i:-2/h**2+math.exp(i)\n",
    "    value=np.array([b(y[0]),a])\n",
    "    row=np.array([0,0])\n",
    "    col=np.array([0,1])\n",
    "    tail_value=np.array([a,b(y[n-1])])\n",
    "    tail_row=np.array([n-1,n-1])\n",
    "    tail_col=np.array([n-2,n-1])\n",
    "    for i in range(1,n-1):\n",
    "        value=np.append(value,[a,b(y[i]),a])\n",
    "        row=np.append(row,[i,i,i])\n",
    "        col=np.append(col,[i-1,i,i+1])\n",
    "    value=np.append(value,tail_value)\n",
    "    row=np.append(row,tail_row)\n",
    "    col=np.append(col,tail_col)\n",
    "    return coo_matrix((value, (row, col)), shape=(n, n))\n"
   ]
  },
  {
   "cell_type": "markdown",
   "metadata": {
    "deletable": false,
    "editable": false,
    "nbgrader": {
     "cell_type": "markdown",
     "checksum": "0e7200a7faff04e915293a9eaa38a10c",
     "grade": false,
     "grade_id": "cell-7d1a3da05c6d0f98",
     "locked": true,
     "schema_version": 3,
     "solution": false,
     "task": false
    }
   },
   "source": [
    "## (d) -- 3 points\n",
    "1. Write down the first order Taylor expansion $T_F(\\vec y, \\vec s)$ for $F(\\vec y+\\vec s)$.\n",
    "2. In order to check your implementation of the Jacobian matrix, compute and print both $F(\\vec y+\\vec s)$ and its first order Taylor approximation $T_F(\\vec y, \\vec s)$ for a choice $\\vec y$ and $\\vec s$.\n",
    "3. Verify numerically that the error $||F(\\vec y + \\vec s) - T_F(\\vec y, \\vec s)||_2$ is $\\mathcal O(||\\vec s||_2^2)$. Hint: take vectors $\\vec s$ with $\\|\\vec s\\|_2 = \\mathcal O(h)$  for multiple values for $h$, e.g. $h = 10^{-k}$ for a range of $k$. "
   ]
  },
  {
   "cell_type": "markdown",
   "metadata": {
    "deletable": false,
    "nbgrader": {
     "cell_type": "markdown",
     "checksum": "f670080f1b2b63e93841d5edb1530ad0",
     "grade": true,
     "grade_id": "cell-f1329a5a81b81ed4",
     "locked": false,
     "points": 1,
     "schema_version": 3,
     "solution": true,
     "task": false
    }
   },
   "source": [
    "Subquestion 1.\n",
    "\n",
    "$T_F(\\vec y, \\vec s)$=$F(\\vec y)+J_F(\\vec y)\\vec s$"
   ]
  },
  {
   "cell_type": "code",
   "execution_count": 85,
   "metadata": {
    "deletable": false,
    "nbgrader": {
     "cell_type": "code",
     "checksum": "4dbcf2f1fa559ab2eb68bae559ca1f2f",
     "grade": true,
     "grade_id": "cell-68d75893db87ddc0",
     "locked": false,
     "points": 2,
     "schema_version": 3,
     "solution": true,
     "task": false
    }
   },
   "outputs": [
    {
     "name": "stdout",
     "output_type": "stream",
     "text": [
      "[1.02019687e+00 6.66428301e+00 1.51369195e+01 3.75816888e+01\n",
      " 9.51562721e+01 2.34488251e+02 5.83642051e+02 1.45396132e+03\n",
      " 3.60520107e+03 7.71852613e+03]\n",
      "[1.02030747e+00 6.66441652e+00 1.51373570e+01 3.75824444e+01\n",
      " 9.51562721e+01 2.34488542e+02 5.83651296e+02 1.45403127e+03\n",
      " 3.60532679e+03 7.71869540e+03]\n"
     ]
    },
    {
     "data": {
      "text/plain": [
       "Text(0.5, -0.15, '$||F(\\\\vec y + \\\\vec s) - T_F(\\\\vec y, \\\\vec s)||$ is parallel to the $||\\\\vec s||_2^2$, indicating the error $||F(\\\\vec y + \\\\vec s) - T_F(\\\\vec y, \\\\vec s)||_2$ is $O(||\\\\vec s||_2^2)$')"
      ]
     },
     "execution_count": 85,
     "metadata": {},
     "output_type": "execute_result"
    },
    {
     "data": {
      "image/png": "[encoded data removed]",
      "text/plain": [
       "<Figure size 432x288 with 1 Axes>"
      ]
     },
     "metadata": {
      "needs_background": "light"
     },
     "output_type": "display_data"
    }
   ],
   "source": [
    "# Subquestions 2\n",
    "n=10\n",
    "h=1/(n+1)\n",
    "vec_y=np.arange(h,1,h)*10\n",
    "s=np.random.random(n)/100\n",
    "\n",
    "Tf=F(vec_y)+JacobianF(vec_y).dot(s)\n",
    "F_ys=F(vec_y+s)\n",
    "print(Tf)\n",
    "print(F_ys)\n",
    "\n",
    "# Subquestions 3\n",
    "s_base=np.random.random(n)/10\n",
    "error_bound=np.array([1,1e-1,1e-2,1e-3,1e-4,1e-5,1e-6])*np.linalg.norm(s_base,2)\n",
    "error_norm=[]\n",
    "for eb in error_bound:\n",
    "    s=np.random.random(n)*eb\n",
    "    error_norm.append(np.linalg.norm(F(vec_y)+JacobianF(vec_y).dot(s)-F(vec_y+s),2))\n",
    "\n",
    "f=plt.figure()\n",
    "plt.loglog(error_bound,error_norm,label=r\"$||F(\\vec y + \\vec s) - T_F(\\vec y, \\vec s)||_2$\")\n",
    "plt.loglog(error_bound,np.power(error_bound,2),label=r\"$||\\vec s||_2^2$\")\n",
    "plt.legend()\n",
    "plt.xlabel(r\"$||s||_2$\")\n",
    "plt.ylabel(\"error\")\n",
    "txt=r\"$||F(\\vec y + \\vec s) - T_F(\\vec y, \\vec s)||$ is parallel to the $||\\vec s||_2^2$, indicating the error $||F(\\vec y + \\vec s) - T_F(\\vec y, \\vec s)||_2$ is $O(||\\vec s||_2^2)$\"\n",
    "plt.figtext(0.5, -0.15, txt, wrap=True, horizontalalignment='center', fontsize=12)"
   ]
  },
  {
   "cell_type": "markdown",
   "metadata": {
    "deletable": false,
    "editable": false,
    "nbgrader": {
     "cell_type": "markdown",
     "checksum": "76f21352868438c33be0ca904716a031",
     "grade": false,
     "grade_id": "cell-b1aa67d6ea92b4c7",
     "locked": true,
     "schema_version": 3,
     "solution": false,
     "task": false
    }
   },
   "source": [
    "## (e) -- 2 points\n",
    "1. Finish the function `NewtonSolve` below to solve the system of equations.\n",
    "2. Take $n=40$, and experiment with your function. Try to find a choice of `y0` such that the method doesn't converge, as well as a choice of `y0` such that the method converges. In your answer, list the types of convergence behavior you found. Show a convergent example (if you found any) and a nonconvergent example (if you found any). Show the solutions you found for each example.\n"
   ]
  },
  {
   "cell_type": "code",
   "execution_count": 8,
   "metadata": {
    "deletable": false,
    "nbgrader": {
     "cell_type": "code",
     "checksum": "b09e388e90f8e8771543849029648b9b",
     "grade": true,
     "grade_id": "cell-033ee536f11decb8",
     "locked": false,
     "points": 1,
     "schema_version": 3,
     "solution": true,
     "task": false
    }
   },
   "outputs": [],
   "source": [
    "# Subquestion 1.\n",
    "def NewtonSolve(y0, K):\n",
    "    \"\"\" Use Newton's method to solve F(y) = 0 with initial guess y0 and K iterations. \"\"\"\n",
    "    y = y0\n",
    "    for i in range(K):\n",
    "        b=-F(y)\n",
    "        s=spsolve(JacobianF(y),b)\n",
    "        y=y+s\n",
    "    return y\n"
   ]
  },
  {
   "cell_type": "code",
   "execution_count": 37,
   "metadata": {
    "deletable": false,
    "nbgrader": {
     "cell_type": "code",
     "checksum": "32666429312b4fed93adbb74fe0a8951",
     "grade": true,
     "grade_id": "cell-ad7022706ca4f890",
     "locked": false,
     "points": 1,
     "schema_version": 3,
     "solution": true,
     "task": false
    }
   },
   "outputs": [
    {
     "name": "stdout",
     "output_type": "stream",
     "text": [
      "2.1228776483177862e-13\n",
      "2.199347358937762e+78\n"
     ]
    }
   ],
   "source": [
    "# Subquestion 2, code part\n",
    "#convergent example\n",
    "n=40\n",
    "y0=np.random.random(n)\n",
    "convergent_y=NewtonSolve(y0,10)\n",
    "result=F(convergent_y)\n",
    "print(np.linalg.norm(result,2))\n",
    "\n",
    "#nonconvergent example\n",
    "y_far=y0*10\n",
    "n_conv_y=NewtonSolve(y_far,30)\n",
    "result=F(n_conv_y)\n",
    "print(np.linalg.norm(result,2))\n"
   ]
  },
  {
   "cell_type": "markdown",
   "metadata": {
    "deletable": false,
    "nbgrader": {
     "cell_type": "markdown",
     "checksum": "6690d829141b106ddefae5bd0810144e",
     "grade": true,
     "grade_id": "cell-d250931443b05cf6",
     "locked": false,
     "points": 0,
     "schema_version": 3,
     "solution": true,
     "task": false
    }
   },
   "source": [
    "In convergent example, we choose y0 by random number between [0,1]\n",
    "After 10 iterations, the 2-norm of F(y) is very close to 0.\n",
    "\n",
    "In nonconvergent example, we multiply y0 by 10, which is far from the solution of F(y)=0. \n",
    "The result after 30 iterations is still far from 0 according to the 2-norm. This example shows that \n",
    "poor initial estimation causes poor convergence property of the Newton method."
   ]
  }
 ],
 "metadata": {
  "kernelspec": {
   "display_name": "Python 3",
   "language": "python",
   "name": "python3"
  },
  "language_info": {
   "codemirror_mode": {
    "name": "ipython",
    "version": 3
   },
   "file_extension": ".py",
   "mimetype": "text/x-python",
   "name": "python",
   "nbconvert_exporter": "python",
   "pygments_lexer": "ipython3",
   "version": "3.8.3"
  }
 },
 "nbformat": 4,
 "nbformat_minor": 2
}
