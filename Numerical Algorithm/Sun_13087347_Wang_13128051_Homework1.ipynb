{
 "cells": [
  {
   "cell_type": "markdown",
   "metadata": {},
   "source": [
    "Before you turn this problem in, make sure everything runs as expected. First, **restart the kernel** (in the menubar, select Kernel$\\rightarrow$Restart) and then **run all cells** (in the menubar, select Cell$\\rightarrow$Run All).\n",
    "\n",
    "Make sure you fill in any place that says `YOUR CODE HERE` or \"YOUR ANSWER HERE\", as well as your name and collaborators below:"
   ]
  },
  {
   "cell_type": "code",
   "execution_count": 4,
   "metadata": {},
   "outputs": [],
   "source": [
    "NAME = \"WENBO SUN\"\n",
    "COLLABORATORS = \"SHUAI WANG\""
   ]
  },
  {
   "cell_type": "markdown",
   "metadata": {},
   "source": [
    "---"
   ]
  },
  {
   "cell_type": "markdown",
   "metadata": {
    "deletable": false,
    "editable": false,
    "nbgrader": {
     "cell_type": "markdown",
     "checksum": "488b736e9df0c7c436c665b3638d4d85",
     "grade": false,
     "grade_id": "cell-06d3e5bf55c941ae",
     "locked": true,
     "schema_version": 3,
     "solution": false,
     "task": false
    }
   },
   "source": [
    "# Homework Set 1"
   ]
  },
  {
   "cell_type": "markdown",
   "metadata": {
    "deletable": false,
    "editable": false,
    "nbgrader": {
     "cell_type": "markdown",
     "checksum": "8865a6829c3d4b9bff6ab56d027d7329",
     "grade": false,
     "grade_id": "cell-736ff6bc3e0d0696",
     "locked": true,
     "schema_version": 3,
     "solution": false,
     "task": false
    }
   },
   "source": [
    "Please **submit this Jupyter notebook through Canvas** no later than **Mon Nov. 2, 15:00**.\n",
    "\n",
    "Homework is in **groups of two**, and you are expected to hand in original work. Work that is copied from another group will not be accepted."
   ]
  },
  {
   "cell_type": "markdown",
   "metadata": {
    "deletable": false,
    "editable": false,
    "nbgrader": {
     "cell_type": "markdown",
     "checksum": "4960a2a2867af2c3f135cf1aa0144498",
     "grade": false,
     "grade_id": "cell-b13bc5ed16bce8e0",
     "locked": true,
     "schema_version": 3,
     "solution": false,
     "task": false
    }
   },
   "source": [
    "# Exercise 0\n",
    "Write down the names + student ID of the people in your group."
   ]
  },
  {
   "cell_type": "markdown",
   "metadata": {
    "deletable": false,
    "nbgrader": {
     "cell_type": "markdown",
     "checksum": "1c3ca8aa9069d7195dfc81b80e94e09e",
     "grade": true,
     "grade_id": "cell-fd464f55ba436b1c",
     "locked": false,
     "points": 0,
     "schema_version": 3,
     "solution": true,
     "task": false
    }
   },
   "source": [
    "WENBO SUN  13087347  \n",
    "SHUAI WANG 13128051"
   ]
  },
  {
   "cell_type": "markdown",
   "metadata": {
    "deletable": false,
    "editable": false,
    "nbgrader": {
     "cell_type": "markdown",
     "checksum": "0daa1b52a8a554e70aab211660410f06",
     "grade": false,
     "grade_id": "cell-b5a7855ecca9f6be",
     "locked": true,
     "schema_version": 3,
     "solution": false,
     "task": false
    }
   },
   "source": [
    "Run the following cell to import the necessary packages."
   ]
  },
  {
   "cell_type": "code",
   "execution_count": 2,
   "metadata": {},
   "outputs": [],
   "source": [
    "import numpy as np\n",
    "import matplotlib.pyplot as plt"
   ]
  },
  {
   "cell_type": "markdown",
   "metadata": {
    "deletable": false,
    "editable": false,
    "nbgrader": {
     "cell_type": "markdown",
     "checksum": "056b790c7e983c7afc9cb54405916501",
     "grade": false,
     "grade_id": "cell-74bf13c4a03ff7a2",
     "locked": true,
     "schema_version": 3,
     "solution": false,
     "task": false
    }
   },
   "source": [
    "## NumPy in single-precision floating point numbers\n",
    "Working with real numbers on a computer can sometimes be counter-intuitive. Not every real number cannot be represented exactly, because that would require an infinite amount of memory. Real numbers are in Python represented as \"double-precision floating point numbers\" that approximate the real numbers they represent. As such, the usual \"rules of mathematics\" no longer hold for very small or very large numbers:"
   ]
  },
  {
   "cell_type": "code",
   "execution_count": 3,
   "metadata": {},
   "outputs": [
    {
     "name": "stdout",
     "output_type": "stream",
     "text": [
      "very small numbers:\n",
      "0\n",
      "1e-17\n",
      "0.0\n",
      "very large numbers:\n",
      "9007199254740992.0\n",
      "9007199254740992.0\n"
     ]
    }
   ],
   "source": [
    "print(\"very small numbers:\")\n",
    "print(1 - 1)          # Should be zero\n",
    "print(1 - 1 + 1e-17)  # Should be 10 ** -17, i.e. a very small number\n",
    "print(1 + 1e-17 - 1)  # Should *also* be 10**-17, but is it?\n",
    "\n",
    "print(\"very large numbers:\")\n",
    "print(2.0**53)        # Some very large number\n",
    "print(2.0**53 + 1.0)  # Some very large number + 1"
   ]
  },
  {
   "cell_type": "markdown",
   "metadata": {},
   "source": [
    "Usually, you don't have to worry about these rounding errors. But in scientific computing, these rounding errors sometimes become important. To reveal this problem more directly, we can decrease the precision of these approximations, using \"single precision\" instead of double precision floating point numbers, by employing `np.single`:"
   ]
  },
  {
   "cell_type": "code",
   "execution_count": 4,
   "metadata": {},
   "outputs": [
    {
     "name": "stdout",
     "output_type": "stream",
     "text": [
      "1.000000001\n",
      "1.0\n"
     ]
    }
   ],
   "source": [
    "print(1.0 + 10**-9)             # Should be slightly above 1\n",
    "print(np.single(1.0 + 10**-9))  # But in single precision, it is exactly 1."
   ]
  },
  {
   "cell_type": "markdown",
   "metadata": {},
   "source": [
    "Today we will practice with these single-precision floating point numbers. One thing to keep in mind is that Python will *really* try to work with double-precision floats:"
   ]
  },
  {
   "cell_type": "code",
   "execution_count": 5,
   "metadata": {},
   "outputs": [
    {
     "name": "stdout",
     "output_type": "stream",
     "text": [
      "a and b represent the same value: True\n",
      "but they are of different types: <class 'float'> <class 'numpy.float32'>\n",
      "If I add zero to a, its type does not change:  True\n",
      "If I add zero to b, its type *does* change:    False\n"
     ]
    }
   ],
   "source": [
    "a = 5.0\n",
    "b = np.single(5.0)\n",
    "print(\"a and b represent the same value:\", a == b)\n",
    "print(\"but they are of different types:\", type(a), type(b))\n",
    "print(\"If I add zero to a, its type does not change: \", type(a) == type(a + 0.0))\n",
    "print(\"If I add zero to b, its type *does* change:   \", type(b) == type(b + 0.0))"
   ]
  },
  {
   "cell_type": "markdown",
   "metadata": {},
   "source": [
    "So we have to be extra careful when working with these single-precision numbers, to prevent these types changing. See the difference between `S` and `T` below."
   ]
  },
  {
   "cell_type": "code",
   "execution_count": 6,
   "metadata": {},
   "outputs": [
    {
     "name": "stdout",
     "output_type": "stream",
     "text": [
      "<class 'numpy.float64'>\n",
      "<class 'numpy.float32'>\n"
     ]
    }
   ],
   "source": [
    "S = 0.0\n",
    "S += np.single(5.0)\n",
    "print(type(S))\n",
    "\n",
    "T = np.single(0.0)\n",
    "T += np.single(5.0)\n",
    "print(type(T))"
   ]
  },
  {
   "cell_type": "markdown",
   "metadata": {
    "deletable": false,
    "editable": false,
    "nbgrader": {
     "cell_type": "markdown",
     "checksum": "7b4a6b9687216a8e0b966548d7cf213e",
     "grade": false,
     "grade_id": "cell-806a5c23e94c8795",
     "locked": true,
     "schema_version": 3,
     "solution": false,
     "task": false
    }
   },
   "source": [
    "## Very short introduction to Matplotlib\n",
    "\n",
    "`matplotlib` is a useful package for visualizing data using Python. Run the first cell below to plot $\\sqrt{x}, x, x^2, x^3$ for $x \\in [1, 10]$."
   ]
  },
  {
   "cell_type": "code",
   "execution_count": 7,
   "metadata": {},
   "outputs": [
    {
     "name": "stdout",
     "output_type": "stream",
     "text": [
      "[ 1.  2.  3.  4.  5.  6.  7.  8.  9. 10.]\n"
     ]
    },
    {
     "data": {
      "image/png": "[encoded data removed]",
      "text/plain": [
       "<Figure size 432x288 with 1 Axes>"
      ]
     },
     "metadata": {
      "needs_background": "light"
     },
     "output_type": "display_data"
    }
   ],
   "source": [
    "x = np.linspace(1, 10, 10)  # 10 points evenly between 1 and 10.\n",
    "print(x)\n",
    "plt.plot(x, x**0.5, label=r\"$x^{1/2}$\")\n",
    "plt.plot(x, x**1, label=r\"$x$\")\n",
    "plt.plot(x, x**2, label=r\"$x^2$\")\n",
    "plt.plot(x, x**3, label=r\"$x^2$\")\n",
    "plt.legend()\n",
    "plt.show()"
   ]
  },
  {
   "cell_type": "markdown",
   "metadata": {
    "deletable": false,
    "editable": false,
    "nbgrader": {
     "cell_type": "markdown",
     "checksum": "0b53c1fa977d3c74fe855550048b382b",
     "grade": false,
     "grade_id": "cell-ffd60653aaa42801",
     "locked": true,
     "schema_version": 3,
     "solution": false,
     "task": false
    }
   },
   "source": [
    "When visualizing functions where $y$ has many different orders of magnitude, a logarithmic scale is useful:"
   ]
  },
  {
   "cell_type": "code",
   "execution_count": 8,
   "metadata": {},
   "outputs": [
    {
     "data": {
      "image/png": "[encoded data removed]",
      "text/plain": [
       "<Figure size 432x288 with 1 Axes>"
      ]
     },
     "metadata": {
      "needs_background": "light"
     },
     "output_type": "display_data"
    }
   ],
   "source": [
    "x = np.linspace(1, 10, 10)\n",
    "plt.semilogy(x, x**0.5, label=r\"$x^{1/2}$\")\n",
    "plt.semilogy(x, x**1, label=r\"$x$\")\n",
    "plt.semilogy(x, x**2, label=r\"$x^2$\")\n",
    "plt.semilogy(x, x**3, label=r\"$x^2$\")\n",
    "plt.legend()\n",
    "plt.show()"
   ]
  },
  {
   "cell_type": "markdown",
   "metadata": {
    "deletable": false,
    "editable": false,
    "nbgrader": {
     "cell_type": "markdown",
     "checksum": "40b83bdab6b4564cdc3a9e3d20c1e01b",
     "grade": false,
     "grade_id": "cell-06341e9c8d7895d1",
     "locked": true,
     "schema_version": 3,
     "solution": false,
     "task": false
    }
   },
   "source": [
    "When also the $x$-axis contains many orders of magnitude, a log-log plot is most useful:"
   ]
  },
  {
   "cell_type": "code",
   "execution_count": 9,
   "metadata": {},
   "outputs": [
    {
     "name": "stdout",
     "output_type": "stream",
     "text": [
      "[1.e+01 1.e+02 1.e+03 1.e+04 1.e+05 1.e+06 1.e+07 1.e+08 1.e+09 1.e+10]\n"
     ]
    },
    {
     "data": {
      "image/png": "[encoded data removed]",
      "text/plain": [
       "<Figure size 432x288 with 1 Axes>"
      ]
     },
     "metadata": {
      "needs_background": "light"
     },
     "output_type": "display_data"
    },
    {
     "data": {
      "image/png": "[encoded data removed]",
      "text/plain": [
       "<Figure size 432x288 with 1 Axes>"
      ]
     },
     "metadata": {
      "needs_background": "light"
     },
     "output_type": "display_data"
    }
   ],
   "source": [
    "x = np.logspace(1, 10, 10, base=10)  # 10 points evenly between 10^1 and 10^10.\n",
    "print(x)\n",
    "\n",
    "plt.plot(x, x**0.5, label=r\"$x^{1/2}$\")\n",
    "plt.plot(x, x**1, label=r\"$x$\")\n",
    "plt.plot(x, x**2, label=r\"$x^2$\")\n",
    "plt.plot(x, x**3, label=r\"$x^2$\")\n",
    "plt.legend()\n",
    "plt.show()\n",
    "\n",
    "plt.loglog(x, x**0.5, label=r\"$x^{1/2}$\")\n",
    "plt.loglog(x, x**1, label=r\"$x$\")\n",
    "plt.loglog(x, x**2, label=r\"$x^2$\")\n",
    "plt.loglog(x, x**3, label=r\"$x^2$\")\n",
    "plt.legend()\n",
    "plt.show()"
   ]
  },
  {
   "cell_type": "markdown",
   "metadata": {
    "deletable": false,
    "editable": false,
    "nbgrader": {
     "cell_type": "markdown",
     "checksum": "8545149ed1b59b01d79676489f704cc4",
     "grade": false,
     "grade_id": "cell-02a5174304f013d5",
     "locked": true,
     "schema_version": 3,
     "solution": false,
     "task": false
    }
   },
   "source": [
    "# Exercise 1"
   ]
  },
  {
   "cell_type": "markdown",
   "metadata": {
    "deletable": false,
    "editable": false,
    "nbgrader": {
     "cell_type": "markdown",
     "checksum": "4a9a0b3326279ba8af2a3e083f16138a",
     "grade": false,
     "grade_id": "cell-03d21574e4781977",
     "locked": true,
     "schema_version": 3,
     "solution": false,
     "task": false
    }
   },
   "source": [
    "For $x \\in [-1,1]$, the arctangent function can be expressed as a Taylor series\n",
    "  $$\n",
    "    \\arctan(x) = \\sum_{n=0}^\\infty (-1)^n \\frac{x^{2n+1}}{(2n+1)} .\n",
    "  $$\n",
    "  Inserting $x=1$ results in the following infinite sum for\n",
    "  $\\frac{\\pi}{4}$\n",
    "  $$\n",
    "    \\frac{\\pi}{4}  = \\sum_{n=0}^\\infty (-1)^n \\frac{1}{(2n+1)} .\n",
    "  $$\n",
    "  Approximations of $\\frac{\\pi}{4}$ can be obtained by computing\n",
    "  finite sums, where we take the first $N$ terms, with $N$ large\n",
    "  $$\n",
    "    S_N = \\sum_{n=0}^{N-1} a_n , \\qquad a_n = (-1)^n \\frac{1}{(2n+1)}\n",
    "  $$\n",
    "  N.B. In the exercise below **implement the sums yourself and sum the arguments in increasing order of the summation index**."
   ]
  },
  {
   "cell_type": "markdown",
   "metadata": {
    "deletable": false,
    "editable": false,
    "nbgrader": {
     "cell_type": "markdown",
     "checksum": "99d2145fc5d5b94a986124180ae40b3e",
     "grade": false,
     "grade_id": "cell-8e741a65f4e736f3",
     "locked": true,
     "schema_version": 3,
     "solution": false,
     "task": false
    }
   },
   "source": [
    "## (a) 2 points\n",
    "1. Finish the function `compute_SN` below that computes the sum $S_N$ using double-precision numbers (`np.double`).\n",
    "2. Use this function to compute the sum $S_N$ for $N \\in \\{10^1, 10^2, 10^3, \\ldots, 10^7\\}$ and store these values."
   ]
  },
  {
   "cell_type": "code",
   "execution_count": 10,
   "metadata": {
    "deletable": false,
    "nbgrader": {
     "cell_type": "code",
     "checksum": "e79aeeb310047bb54f9628f0d8d1fe59",
     "grade": true,
     "grade_id": "cell-9bf4d805982226a2",
     "locked": false,
     "points": 2,
     "schema_version": 3,
     "solution": true,
     "task": false
    }
   },
   "outputs": [
    {
     "name": "stdout",
     "output_type": "stream",
     "text": [
      "[0.7604599047323508, 0.7828982258896384, 0.7851481634599485, 0.7853731633975086, 0.7853956633974299, 0.7853979133974436, 0.7853981383974479]\n"
     ]
    }
   ],
   "source": [
    "def compute_SN(N):\n",
    "    n=np.double(0)\n",
    "    sn=np.double(0)\n",
    "    while n<N:\n",
    "        sn+=np.double(-1)**n/(np.double(2)*n+np.double(1))\n",
    "        n+=np.double(1)\n",
    "    return sn\n",
    "\n",
    "# Compute the sums and store in a variable.\n",
    "# YOUR CODE HERE\n",
    "Ns=[np.power(10,1),np.power(10,2),np.power(10,3),np.power(10,4),np.power(10,5),np.power(10,6),np.power(10,7)]\n",
    "sums=list(map(lambda x:compute_SN(x),Ns))\n",
    "print(sums)"
   ]
  },
  {
   "cell_type": "markdown",
   "metadata": {
    "deletable": false,
    "editable": false,
    "nbgrader": {
     "cell_type": "markdown",
     "checksum": "23c4932a52fb9a6b26b4c5c28faa018e",
     "grade": false,
     "grade_id": "cell-c0739291ac955ec4",
     "locked": true,
     "schema_version": 3,
     "solution": false,
     "task": false
    }
   },
   "source": [
    "## (b) 2 points\n",
    "1. Finish `compute_SN_single` below that computes the sum $S_N$ using single-precision numbers (`np.single`).\n",
    "2. Use `compute_SN_single` to compute $S_N$ for the same set of $N$s as above. Use a log-log plot to visualize the errors $|S_N - \\tfrac{\\pi}{4}|$ for both double- and single-precision."
   ]
  },
  {
   "cell_type": "code",
   "execution_count": 11,
   "metadata": {
    "deletable": false,
    "nbgrader": {
     "cell_type": "code",
     "checksum": "6ab4970b7b86d931fd79cedfb271b5b3",
     "grade": true,
     "grade_id": "cell-fcae7f0dcf4c9759",
     "locked": false,
     "points": 2,
     "schema_version": 3,
     "solution": true,
     "task": false
    }
   },
   "outputs": [],
   "source": [
    "def compute_SN_single(N):\n",
    "    # YOUR CODE HERE\n",
    "    n=np.single(0)\n",
    "    sn=np.single(0)\n",
    "    while n<N:\n",
    "        sn+=np.single(-1)**n/(np.single(2)*n+np.single(1))\n",
    "        n+=np.single(1)\n",
    "    return sn\n",
    "\n",
    "# Compute the S_N and plot the results.\n",
    "sums_single=list(map(lambda x:compute_SN_single(x),Ns))\n"
   ]
  },
  {
   "cell_type": "code",
   "execution_count": 12,
   "metadata": {},
   "outputs": [
    {
     "data": {
      "image/png": "[encoded data removed]",
      "text/plain": [
       "<Figure size 432x288 with 1 Axes>"
      ]
     },
     "metadata": {
      "needs_background": "light"
     },
     "output_type": "display_data"
    }
   ],
   "source": [
    "Xs=np.array(Ns)\n",
    "single_array=np.abs(np.array(sums_single)-np.pi/4)\n",
    "double_array=np.abs(np.array(sums)-np.pi/4)\n",
    "f=plt.figure()\n",
    "plt.loglog(Xs,single_array,label=\"single-percision\")\n",
    "plt.loglog(Xs,double_array,label=\"double-percision\")\n",
    "plt.title(\"Image1. Error of different precision settings\")\n",
    "plt.legend()\n",
    "plt.show()"
   ]
  },
  {
   "cell_type": "markdown",
   "metadata": {
    "deletable": false,
    "editable": false,
    "nbgrader": {
     "cell_type": "markdown",
     "checksum": "624df119d6621a2b92679d6c1dc08c58",
     "grade": false,
     "grade_id": "cell-f1ac3e47ff9444bc",
     "locked": true,
     "schema_version": 3,
     "solution": false,
     "task": false
    }
   },
   "source": [
    "## (c) 2 points\n",
    "Let $b_n = a_{2n} + a_{2n+1}$, and let $T_N = \\sum_{n=0}^{N/2-1} b_n$.\n",
    "1. Explain that for even $N$, $T_N = S_N$, and compute the sum $b_n= a_{2n} + a_{2n+1}$ analytically.\n",
    "2. Now compute the sum $T_N$ for $N \\in \\{10^1, 10^2, 10^3, \\ldots, 10^7\\}$ using single-precision numbers and this analytical expression, and visualize the errors in a log-log plot."
   ]
  },
  {
   "cell_type": "markdown",
   "metadata": {
    "deletable": false,
    "nbgrader": {
     "cell_type": "markdown",
     "checksum": "1bb79d0631b96778ac50107b69087a2c",
     "grade": true,
     "grade_id": "cell-6769a30a67611205",
     "locked": false,
     "points": 1,
     "schema_version": 3,
     "solution": true,
     "task": false
    }
   },
   "source": [
    "**1.Answer:**\n",
    "$$\n",
    "\\begin{align}\n",
    "    T_N=&\\sum^{N/2-1}_{n=0}(a_{2n}+a_{2n+1}) \\\\\n",
    "     =&\\sum^{N/2-1}_{n=0}a_{2n} + \\sum^{N/2-1}_{n=0}a_{2n+1}\n",
    "\\end{align}$$\n",
    "When N is even, Let i=2n (even) and j=2n+1 (odd), i,j are all integers <= N. Then we have\n",
    "$\\sum^{N-2}_{i=0}a_{i}+\\sum^{N-1}_{j=1}a_{j}$ which euqals to $S_N$\n",
    "\n",
    "$$\n",
    "\\begin{align}\n",
    "b_n=&a_{2n}+a_{2n+1} \\\\\n",
    "=&(-1)^{2n}\\frac{1}{2(2n)+1}+(-1)^{2n+1}\\frac{1}{2(2n+1)+1} \\\\\n",
    "=&\\frac{1}{4n+1}-\\frac{1}{4n+3} \\\\\n",
    "\\end{align}$$"
   ]
  },
  {
   "cell_type": "code",
   "execution_count": 13,
   "metadata": {
    "deletable": false,
    "nbgrader": {
     "cell_type": "code",
     "checksum": "55ea45e07a0857d5162eecd63cea9b25",
     "grade": true,
     "grade_id": "cell-7427d5f5c72c8305",
     "locked": false,
     "points": 1,
     "schema_version": 3,
     "solution": true,
     "task": false
    }
   },
   "outputs": [
    {
     "name": "stdout",
     "output_type": "stream",
     "text": [
      "4.0\n",
      "49.0\n",
      "499.0\n",
      "4999.0\n",
      "49999.0\n",
      "499999.0\n",
      "4999999.0\n",
      "[0.7604599, 0.78289825, 0.7851482, 0.7853459, 0.7853459, 0.7853459, 0.7853459]\n"
     ]
    }
   ],
   "source": [
    "# Write your answer to subquestion 2 here.\n",
    "def sum_Tn(N):\n",
    "    new_N=np.single(N//2-1)\n",
    "    print(new_N)\n",
    "    count=np.single(0)\n",
    "    Tn=np.single(0)\n",
    "    while count<=new_N:\n",
    "        Tn+=(np.single(1)/(np.multiply(np.single(4),count)+np.single(1))-np.single(1)/(np.multiply(np.single(4),count)+np.single(3)))\n",
    "#         Tn+=np.single(2)/(np.multiply(np.single(4),count)+np.single(1))/(np.multiply(np.single(4),count)+np.single(3))\n",
    "        count+=np.single(1)\n",
    "    return Tn\n",
    "# YOUR CODE HERE\n",
    "sums_TN=list(map(lambda x:sum_Tn(x),Ns))\n",
    "print(sums_TN)\n"
   ]
  },
  {
   "cell_type": "code",
   "execution_count": 14,
   "metadata": {},
   "outputs": [
    {
     "name": "stdout",
     "output_type": "stream",
     "text": [
      "[0.7604599047323508, 0.7828982258896384, 0.7851481634599485, 0.7853731633975086, 0.7853956633974299, 0.7853979133974436, 0.7853981383974479]\n",
      "[0.7604599, 0.7828981, 0.78514814, 0.78537464, 0.78539646, 0.78539884, 0.7853992]\n",
      "[0.7604599, 0.78289825, 0.7851482, 0.7853459, 0.7853459, 0.7853459, 0.7853459]\n"
     ]
    }
   ],
   "source": [
    "print(sums)\n",
    "print(sums_single)\n",
    "print(sums_TN)"
   ]
  },
  {
   "cell_type": "code",
   "execution_count": 15,
   "metadata": {},
   "outputs": [
    {
     "data": {
      "image/png": "[encoded data removed]",
      "text/plain": [
       "<Figure size 432x288 with 1 Axes>"
      ]
     },
     "metadata": {
      "needs_background": "light"
     },
     "output_type": "display_data"
    }
   ],
   "source": [
    "tn_array=np.abs(np.array(sums_TN)-np.pi/4)\n",
    "f=plt.figure()\n",
    "plt.loglog(Xs,single_array,label=\"single-percision\")\n",
    "plt.loglog(Xs,double_array,label=\"double-percision\")\n",
    "plt.loglog(Xs,tn_array,label=\"tn-percision\")\n",
    "plt.xlabel(\"N\")\n",
    "plt.ylabel(\"error\")\n",
    "plt.title(\"Image2. Error of different precision and algorithm settings\")\n",
    "plt.legend()\n",
    "plt.show()"
   ]
  },
  {
   "cell_type": "markdown",
   "metadata": {
    "deletable": false,
    "editable": false,
    "nbgrader": {
     "cell_type": "markdown",
     "checksum": "d26fc055a562baf1463088ce24b858a0",
     "grade": false,
     "grade_id": "cell-90eaeadaa2194ccc",
     "locked": true,
     "schema_version": 3,
     "solution": false,
     "task": false
    }
   },
   "source": [
    "# (d) 1 point\n",
    "Explain the differences you found in the results from (b) and (c)."
   ]
  },
  {
   "cell_type": "markdown",
   "metadata": {
    "deletable": false,
    "nbgrader": {
     "cell_type": "markdown",
     "checksum": "c79db9fe6bc3c067132aa1fa75c7b776",
     "grade": true,
     "grade_id": "cell-9b2f241efeedab82",
     "locked": false,
     "points": 1,
     "schema_version": 3,
     "solution": true,
     "task": false
    }
   },
   "source": [
    "###  Quantitative  analysis\n",
    "#### (b)Single and double Percision Summation\n",
    "When $n<=10^5$, the error of $\\frac{1}{2n+1}$ is still covered by the machine percision which is $\\frac{1}{2}*10^{-6}$. Hence, The prominent error in summation is the accumulated rounding error which comes out to be minor.\n",
    "When $n>10^5$, the error of $\\frac{1}{2n+1}$ exceeds the machine percision so the accumulated rounding error become larger.\n",
    "\n",
    "At the same time, when n is odd, taking n=$10^6+1$ as an example, $S_{n}=S_{n-1}-\\frac{1}{2n+1}=0.78539884-4.9999977*10^{-7}$, which has evident cancellation as normalisation. Thus, when $n>10^5$ all negtive items in summation lose percision and cannot contribute extra percision in approximation to $\\frac{\\pi}{4}$, leading the error after $10^{5}$ remains the identical level.  \n",
    "However, error in double precision calculation decreased proportionally with N increasing in log order.\n",
    "\n",
    "#### (c)Summation of $T_N$\n",
    "The result of $T_N$ shows that this method lose percision at the very early stage where $n=10^4$. $T_N$ takes subtraction between pair items as $b_n$ and then sum items together. When $n=4*10^4$, $b_{1999}=a_{3998}+a_{3999}=\\frac{1}{1999*4+1}-\\frac{1}{1999*4+3}=3.1272066e-08$. Consider $T_{2000}=T_{1999}+b_n$. The result will roundoff the whole $b_n$ item. \n",
    "Thus, the rounding error makes this method can not contribute better precision after $n>10^4$.\n",
    "\n",
    "### Qualitative comparative analysis\n",
    "Comparing results in Image2., we find when N<$10^3$, errors in $T_n$ are same with errors in single and double precision in calculating $S_n$. However, when N>$10^3$, error in $T_n$ are larger than other two errors and remains the same when N>$10^4$. Besides, $S_n$ errors in double precision decreased proportionally with N increasing. Overall $S_n$ errors in single precision is somewhere between $T_n$ and double precision. In a conclusion We can choose different setting in calculation to achieve lowest error and high computational efficiency at same time by above analysis."
   ]
  },
  {
   "cell_type": "markdown",
   "metadata": {
    "deletable": false,
    "editable": false,
    "nbgrader": {
     "cell_type": "markdown",
     "checksum": "ea556af0b054b06f8fa2bfa0f53484fa",
     "grade": false,
     "grade_id": "cell-87f0e80c341bb754",
     "locked": true,
     "schema_version": 3,
     "solution": false,
     "task": false
    }
   },
   "source": [
    "## (e) 2 points\n",
    "Use the following _compensated summation_ algorithm (due to Kahan) to sum the $a_n$, again using only single precision. Visualize the errors in a log-log plot.\n",
    "\n",
    "$\n",
    "s = x_1\\\\\n",
    "c = 0\\\\\n",
    "\\textbf{for } i = 2 \\textbf{ to } n\\\\\n",
    "\\quad y = x_i - c\\\\\n",
    "\\quad t = s+y\\\\\n",
    "\\quad c = (t-s) - y\\\\\n",
    "\\quad s = t\\\\\n",
    "\\textbf{end}\n",
    "$"
   ]
  },
  {
   "cell_type": "code",
   "execution_count": 16,
   "metadata": {
    "deletable": false,
    "nbgrader": {
     "cell_type": "code",
     "checksum": "6bc80f792237890735ea831e21cd3223",
     "grade": true,
     "grade_id": "cell-bfe77c6f6d93887c",
     "locked": false,
     "points": 2,
     "schema_version": 3,
     "solution": true,
     "task": false
    }
   },
   "outputs": [],
   "source": [
    "\n",
    "def compute_SN_single_with_compenstaion(N):\n",
    "    n=np.single(0)\n",
    "    sn=np.single(0)\n",
    "    c=np.single(0)\n",
    "    while n<N:\n",
    "        ai=np.single(-1)**n/(np.single(2)*n+np.single(1))\n",
    "        y=ai-c\n",
    "        t=sn+y\n",
    "        c=(t-sn)-y\n",
    "        sn=t\n",
    "        n+=np.single(1)\n",
    "    return sn\n",
    "sums_with_compensation=list(map(lambda x:compute_SN_single_with_compenstaion(x),Ns))"
   ]
  },
  {
   "cell_type": "code",
   "execution_count": 17,
   "metadata": {},
   "outputs": [
    {
     "name": "stdout",
     "output_type": "stream",
     "text": [
      "[0.7604599047323508, 0.7828982258896384, 0.7851481634599485, 0.7853731633975086, 0.7853956633974299, 0.7853979133974436, 0.7853981383974479]\n",
      "[0.7604599, 0.7828981, 0.78514814, 0.78537464, 0.78539646, 0.78539884, 0.7853992]\n",
      "[0.7604599, 0.7828982, 0.78514814, 0.78537315, 0.7853956, 0.7853979, 0.7853981]\n"
     ]
    }
   ],
   "source": [
    "print(sums)\n",
    "print(sums_single)\n",
    "print(sums_with_compensation)"
   ]
  },
  {
   "cell_type": "code",
   "execution_count": 18,
   "metadata": {},
   "outputs": [
    {
     "data": {
      "image/png": "[encoded data removed]",
      "text/plain": [
       "<Figure size 432x288 with 1 Axes>"
      ]
     },
     "metadata": {
      "needs_background": "light"
     },
     "output_type": "display_data"
    }
   ],
   "source": [
    "comp_array=np.abs(np.array(sums_with_compensation)-np.pi/4)\n",
    "f=plt.figure()\n",
    "plt.loglog(Xs,single_array,label=\"single-percision\")\n",
    "plt.loglog(Xs,double_array,label=\"double-percision\")\n",
    "plt.loglog(Xs,tn_array,label=\"tn-percision\")\n",
    "plt.loglog(Xs,comp_array,label=\"comp_percision\")\n",
    "plt.xlabel(\"N\")\n",
    "plt.ylabel(\"error\")\n",
    "plt.title(\"Image3. Error of different precision and algorithm settings\")\n",
    "plt.legend()\n",
    "plt.show()"
   ]
  },
  {
   "cell_type": "markdown",
   "metadata": {
    "deletable": false,
    "editable": false,
    "nbgrader": {
     "cell_type": "markdown",
     "checksum": "95aafec79c3c736b93c079e84812bb0b",
     "grade": false,
     "grade_id": "cell-5ec1e9b5ca7900ca",
     "locked": true,
     "schema_version": 3,
     "solution": false,
     "task": false
    }
   },
   "source": [
    "# (f) 1 point\n",
    "Explain the differences you found in the results from (b) and (e)."
   ]
  },
  {
   "cell_type": "markdown",
   "metadata": {
    "deletable": false,
    "nbgrader": {
     "cell_type": "markdown",
     "checksum": "ecc21a3e0bdfefd6767fdf9c38adadc5",
     "grade": true,
     "grade_id": "cell-e54ee12da20371ab",
     "locked": false,
     "points": 1,
     "schema_version": 3,
     "solution": true,
     "task": false
    }
   },
   "source": [
    "###  Quantitative  analysis\n",
    "The compensated summation is based on simulating double precision floating point addition in single precision arithmetic. When we calculate a+b, the Kahan's method computes the rounding error in this step, which is \n",
    "$$ c=fl(fl(b-s)+a)$$\n",
    "For example, $a=0.1234567, b=0.7654321*10^4$, $s=0.76544443*10^4$, then $c=-0.1240000+0.1234567=-0.54329634*10^{-3}$. \n",
    "\n",
    "At every step of summation, c could pick up the lost precision in fl(a+b). The compensated summation will keep the precision until the item achieves the machine precision.\n",
    "\n",
    "### Qualitative comparative analysis\n",
    "Comparing visualization result in Image3., we find when N<$10^4$ errors of compensated summation is equal to error of single and double precision in calculating $S_n$;  When $10^4$<N<$10^5$, error of compensated summation is same  with double precision error but larger than single precision error; When N>$10^5$, compensated summation error is between single and double precision.\n",
    "In general, the error ofcompensated summation similiar with the error of double precision from N=$10^1$ to N=$10^7$."
   ]
  },
  {
   "cell_type": "code",
   "execution_count": null,
   "metadata": {},
   "outputs": [],
   "source": []
  }
 ],
 "metadata": {
  "kernelspec": {
   "display_name": "Python 3",
   "language": "python",
   "name": "python3"
  },
  "language_info": {
   "codemirror_mode": {
    "name": "ipython",
    "version": 3
   },
   "file_extension": ".py",
   "mimetype": "text/x-python",
   "name": "python",
   "nbconvert_exporter": "python",
   "pygments_lexer": "ipython3",
   "version": "3.8.3"
  }
 },
 "nbformat": 4,
 "nbformat_minor": 4
}
