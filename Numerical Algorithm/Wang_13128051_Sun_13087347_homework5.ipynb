{
 "cells": [
  {
   "cell_type": "markdown",
   "metadata": {},
   "source": [
    "Before you turn this problem in, make sure everything runs as expected. First, **restart the kernel** (in the menubar, select Kernel$\\rightarrow$Restart) and then **run all cells** (in the menubar, select Cell$\\rightarrow$Run All).\n",
    "\n",
    "Make sure you fill in any place that says `YOUR CODE HERE` or \"YOUR ANSWER HERE\", as well as your name and collaborators below:"
   ]
  },
  {
   "cell_type": "markdown",
   "metadata": {},
   "source": [
    "---"
   ]
  },
  {
   "cell_type": "markdown",
   "metadata": {
    "deletable": false,
    "editable": false,
    "nbgrader": {
     "cell_type": "markdown",
     "checksum": "e28be08ce65723a03eebe90f6af2ba42",
     "grade": false,
     "grade_id": "cell-9883e537b60e8a6c",
     "locked": true,
     "schema_version": 3,
     "solution": false,
     "task": false
    }
   },
   "source": [
    "Please **submit this Jupyter notebook through Canvas** no later than **November 30, 15:00**.\n",
    "\n",
    "Homework is in **groups of two**, and you are expected to hand in original work. Work that is copied from another group will not be accepted.\n",
    "\n",
    "# Exercise 0\n",
    "In the box below, write down the names + student ID of the people in your group."
   ]
  },
  {
   "cell_type": "markdown",
   "metadata": {},
   "source": [
    "WENBO SUN 13087347 \\\n",
    "SHUAI WANG 13128051"
   ]
  },
  {
   "cell_type": "markdown",
   "metadata": {
    "deletable": false,
    "editable": false,
    "nbgrader": {
     "cell_type": "markdown",
     "checksum": "747061d62bbfde9aa51048dcbfb5a192",
     "grade": false,
     "grade_id": "cell-b3037f62631ff374",
     "locked": true,
     "schema_version": 3,
     "solution": false,
     "task": false
    }
   },
   "source": [
    "# The global keyword (helpful info for exercise 3)\n",
    "In exercise 3 you are asked, at some point, to count the number of times a certain function is evaluated. One way of doing this is using a global variable. To change a global variable x from inside a function, the global keyword is used."
   ]
  },
  {
   "cell_type": "code",
   "execution_count": 1,
   "metadata": {},
   "outputs": [
    {
     "name": "stdout",
     "output_type": "stream",
     "text": [
      "x before: 4\n",
      "x after: 8\n"
     ]
    }
   ],
   "source": [
    "import numpy as np\n",
    "import scipy.optimize\n",
    "import matplotlib.pyplot as plt\n",
    "\n",
    "# to change a global variable x from inside a function, use the global keyword\n",
    "def foo():\n",
    "    global x\n",
    "    x = x*2\n",
    "    \n",
    "x=4\n",
    "print(\"x before:\", x) \n",
    "foo()\n",
    "print(\"x after:\", x)\n",
    "\n",
    "# verify for yourself that omitting the line \"global x\" produces an error"
   ]
  },
  {
   "cell_type": "markdown",
   "metadata": {
    "deletable": false,
    "editable": false,
    "nbgrader": {
     "cell_type": "markdown",
     "checksum": "09eb4102059700053362a6d70d3029a8",
     "grade": false,
     "grade_id": "cell-8b33b320c171235d",
     "locked": true,
     "schema_version": 3,
     "solution": false,
     "task": false
    }
   },
   "source": [
    "-----\n",
    "# Exercise 1\n",
    "**N.B. This is a pen-and-paper exercise. If you prefer you may upload a separate pdf for this exercise and other pen-and-paper exercises. If you do, don't put both files in a single .zip file, upload them both separately.**\n",
    "\n",
    "## (a) (exercise 6.4(b)) 1 point\n",
    "\n",
    "Consider the minimization of \n",
    "$$\n",
    "  f(x,y) = x^2 + y^2\n",
    "$$\n",
    "subject to\n",
    "$$\n",
    "  g(x,y) = xy^2 -1 = 0 .\n",
    "$$\n",
    "Determine the critical points of the Lagrangian function for this problem and determine whether each is a constrained minimum, a constrained maximum, or neither.\n"
   ]
  },
  {
   "cell_type": "markdown",
   "metadata": {
    "deletable": false,
    "nbgrader": {
     "cell_type": "markdown",
     "checksum": "47fff3db288e7d3ce7995c16e5e17a0c",
     "grade": true,
     "grade_id": "cell-a7805a5f1bc0a884",
     "locked": false,
     "points": 1,
     "schema_version": 3,
     "solution": true,
     "task": false
    }
   },
   "source": [
    "$$\n",
    "$$"
   ]
  },
  {
   "cell_type": "markdown",
   "metadata": {
    "deletable": false,
    "editable": false,
    "nbgrader": {
     "cell_type": "markdown",
     "checksum": "544a41a8dd55add75633bd767233e758",
     "grade": false,
     "grade_id": "cell-9979a25378b9f308",
     "locked": true,
     "schema_version": 3,
     "solution": false,
     "task": false
    }
   },
   "source": [
    "## (b) (exercise 6.4(c)) 1 point\n",
    "\n",
    "Minimize $x+y+3$ under the constraint that $x^2 + x +y^2+y = 4$. Prove that the point you find is a minimum."
   ]
  },
  {
   "cell_type": "markdown",
   "metadata": {
    "deletable": false,
    "nbgrader": {
     "cell_type": "markdown",
     "checksum": "81ed37ee155bed64f0aae0ef39118dfc",
     "grade": true,
     "grade_id": "cell-4d684ea590cdfa54",
     "locked": false,
     "points": 1,
     "schema_version": 3,
     "solution": true,
     "task": false
    }
   },
   "source": [
    "YOUR ANSWER HERE"
   ]
  },
  {
   "cell_type": "markdown",
   "metadata": {
    "deletable": false,
    "editable": false,
    "nbgrader": {
     "cell_type": "markdown",
     "checksum": "6aba2d41ad63dca2cf76f1315bcbbefc",
     "grade": false,
     "grade_id": "cell-7177fbddfdd7d873",
     "locked": true,
     "schema_version": 3,
     "solution": false,
     "task": false
    }
   },
   "source": [
    "---\n",
    "# Exercise 2"
   ]
  },
  {
   "cell_type": "markdown",
   "metadata": {
    "deletable": false,
    "editable": false,
    "nbgrader": {
     "cell_type": "markdown",
     "checksum": "99dd228f61fac8629c22581219f8e4f1",
     "grade": false,
     "grade_id": "cell-94cd7e1c744a76c2",
     "locked": true,
     "schema_version": 3,
     "solution": false,
     "task": false
    }
   },
   "source": [
    "## (a) 1 point\n",
    " The Rosenbrock function is given by\n",
    "\n",
    "$$\n",
    "f(x,y) = 100 (y-x^2)^2 + (1-x)^2\n",
    "$$\n",
    "\n",
    "What is the gradient of $f$? Show that there is exactly one local minimum point and determine this point (N.B. this is a pen-and-paper exercise.)"
   ]
  },
  {
   "cell_type": "markdown",
   "metadata": {
    "deletable": false,
    "nbgrader": {
     "cell_type": "markdown",
     "checksum": "0ce9eb2cc3c2dc541aee1ab6aa0f8d2f",
     "grade": true,
     "grade_id": "cell-4f860d2b64403e48",
     "locked": false,
     "points": 1,
     "schema_version": 3,
     "solution": true,
     "task": false
    }
   },
   "source": [
    "YOUR ANSWER HERE"
   ]
  },
  {
   "cell_type": "markdown",
   "metadata": {
    "deletable": false,
    "editable": false,
    "nbgrader": {
     "cell_type": "markdown",
     "checksum": "eb59a046feac918aeb9061b3d43e8f6a",
     "grade": false,
     "grade_id": "cell-53b183ed09ef49cd",
     "locked": true,
     "schema_version": 3,
     "solution": false,
     "task": false
    }
   },
   "source": [
    "## (b) 2 points\n",
    "Implement the method of steepest descent. Use ``scipy.optimize.line_search`` as line search method.\n",
    "\n",
    "Test your method on the Rosenbrock function starting from $(x,y) = (0,0)$.\n",
    "Plot the convergence to the minimum.\n"
   ]
  },
  {
   "cell_type": "code",
   "execution_count": 7,
   "metadata": {
    "deletable": false,
    "nbgrader": {
     "cell_type": "code",
     "checksum": "f33eaa695ec43af4a4fe3b5543c30dda",
     "grade": true,
     "grade_id": "cell-2d5c6295e4bcde3c",
     "locked": false,
     "points": 2,
     "schema_version": 3,
     "solution": true,
     "task": false
    }
   },
   "outputs": [
    {
     "name": "stdout",
     "output_type": "stream",
     "text": [
      "[0.98676319 0.97365694]\n"
     ]
    },
    {
     "data": {
      "image/png": "[encoded data removed]",
      "text/plain": [
       "<Figure size 720x360 with 2 Axes>"
      ]
     },
     "metadata": {
      "needs_background": "light"
     },
     "output_type": "display_data"
    }
   ],
   "source": [
    "from scipy.optimize import line_search\n",
    "# python code here\n",
    "def rosenbrock(x):\n",
    "    return 100*(x[1]-x[0]**2)**2+(1-x[0])**2\n",
    "\n",
    "def gradf(x):\n",
    "    return np.array([-400*x[0]*x[1]+400*x[0]**3-2+2*x[0],200*(x[1]-x[0]**2)])\n",
    "\n",
    "\n",
    "x = np.array([0,0])\n",
    "x_vals = [np.array([0,0])]\n",
    "iter_num=1000\n",
    "for i in range(iter_num):\n",
    "    s=-1*gradf(x)\n",
    "    alpha=line_search(rosenbrock,gradf,x,s)[0]\n",
    "    x=x+alpha*s\n",
    "    x_vals.append(x)\n",
    "print(x)\n",
    "fig, (ax0, ax1) = plt.subplots(1,2, figsize=(10,5))\n",
    "X, Y = np.linspace(-1, 2, 101), np.linspace(-1,2, 101)\n",
    "xx, yy = np.meshgrid(X, Y)\n",
    "ff = np.zeros(xx.shape)\n",
    "for i, x in enumerate(X):\n",
    "    for j, y in enumerate(Y):\n",
    "        ff[j,i] = rosenbrock((x,y))\n",
    "ax0.contourf(xx,yy,ff, levels=25, cmap='viridis')\n",
    "ax0.plot([x[0] for x in x_vals], [x[1] for x in x_vals], 'k-')\n",
    "ax0.set_title(\"convergence\")\n",
    "ax1.semilogy([np.abs(rosenbrock((x,y))) for (x,y) in x_vals])\n",
    "ax1.set_title(\"error\")\n",
    "plt.show()"
   ]
  },
  {
   "cell_type": "markdown",
   "metadata": {
    "deletable": false,
    "editable": false,
    "nbgrader": {
     "cell_type": "markdown",
     "checksum": "90fe4c2daeab49b51755ba45bfd21158",
     "grade": false,
     "grade_id": "cell-2c8f52f1eddef15d",
     "locked": true,
     "schema_version": 3,
     "solution": false,
     "task": false
    }
   },
   "source": [
    "----\n",
    "# Exercise 3"
   ]
  },
  {
   "cell_type": "markdown",
   "metadata": {
    "deletable": false,
    "editable": false,
    "nbgrader": {
     "cell_type": "markdown",
     "checksum": "11ce95fe365042fff66021813fb3cc3c",
     "grade": false,
     "grade_id": "cell-36ba49f061557f52",
     "locked": true,
     "schema_version": 3,
     "solution": false,
     "task": false
    }
   },
   "source": [
    "## (a) 2 points\n",
    "\n",
    "Implement the BFGS method for unconstrained optimization, given in Heath chapter 6. Test the correctness of the code using the data in Example 6.13."
   ]
  },
  {
   "cell_type": "code",
   "execution_count": 3,
   "metadata": {
    "deletable": false,
    "nbgrader": {
     "cell_type": "code",
     "checksum": "dfb2f9a492fe76afd1c476bce0c3249f",
     "grade": true,
     "grade_id": "cell-6afa3b4364c58723",
     "locked": false,
     "points": 2,
     "schema_version": 3,
     "solution": true,
     "task": false
    }
   },
   "outputs": [
    {
     "name": "stdout",
     "output_type": "stream",
     "text": [
      "[-7.47355565e-17  7.71498832e-18]\n"
     ]
    }
   ],
   "source": [
    "from scipy.linalg import solve\n",
    "\n",
    "def BFGS(f,gradf,x,H,max_iter):\n",
    "    c=len(x)\n",
    "    x_trace=[x]\n",
    "    for i in range(max_iter):\n",
    "        grad=gradf(x)\n",
    "        s=solve(H,-1*grad)\n",
    "        x=x+s\n",
    "        x_trace.append(x)\n",
    "        y=np.mat(gradf(x)-grad).T\n",
    "        s=np.mat(s).T\n",
    "        H=H+y*y.T/(y.T*s)-(H*s*s.T*H)/(s.T*H*s)\n",
    "    return x,x_trace\n",
    "\n",
    "f=lambda x:0.5*x[0]**2+2.5*x[1]**2\n",
    "g=lambda x:np.array([x[0],5*x[1]])\n",
    "\n",
    "x0=np.array([5,1])\n",
    "H0=np.identity(2)\n",
    "print(BFGS(f,g,x0,H0,10)[0])"
   ]
  },
  {
   "cell_type": "markdown",
   "metadata": {},
   "source": [
    "## (b) 2 points\n",
    "\n",
    "Apply your implementation of the BFGS method to find a local minimum of the Rosenbrock function (see previous exercise). Use starting point $(0,0)$ and do not assume any knowledge of the Hessian when you choose $B_0$.\n",
    "Plot the convergence to the minimum."
   ]
  },
  {
   "cell_type": "code",
   "execution_count": 6,
   "metadata": {
    "deletable": false,
    "nbgrader": {
     "cell_type": "code",
     "checksum": "579c3cb3aa3f80ad1740a28b06677f2c",
     "grade": true,
     "grade_id": "cell-e084362700c1f28b",
     "locked": false,
     "points": 2,
     "schema_version": 3,
     "solution": true,
     "task": false
    }
   },
   "outputs": [
    {
     "name": "stdout",
     "output_type": "stream",
     "text": [
      "[1. 1.]\n"
     ]
    },
    {
     "data": {
      "image/png": "[encoded data removed]",
      "text/plain": [
       "<Figure size 720x360 with 2 Axes>"
      ]
     },
     "metadata": {
      "needs_background": "light"
     },
     "output_type": "display_data"
    }
   ],
   "source": [
    "x0=np.array([0,0])\n",
    "H0=np.identity(2)\n",
    "final_x,x_trace=BFGS(rosenbrock,gradf,x0,H0,50)\n",
    "print(final_x)\n",
    "fig, (ax0, ax1) = plt.subplots(1,2, figsize=(10,5))\n",
    "X, Y = np.linspace(-25, 10, 201), np.linspace(-100,20, 121)\n",
    "xx, yy = np.meshgrid(X, Y)\n",
    "ff = np.zeros(xx.shape)\n",
    "for i, x in enumerate(X):\n",
    "    for j, y in enumerate(Y):\n",
    "        ff[j,i] = rosenbrock((x,y))\n",
    "ax0.contourf(xx,yy,ff, levels=25, cmap='viridis')\n",
    "ax0.plot([x[0] for x in x_trace], [x[1] for x in x_trace], 'k-')\n",
    "ax0.set_title(\"convergence\")\n",
    "ax1.semilogy([np.abs(rosenbrock((x,y))) for (x,y) in x_trace])\n",
    "ax1.set_title(\"error\")\n",
    "plt.show()"
   ]
  },
  {
   "cell_type": "markdown",
   "metadata": {},
   "source": [
    "## (c) 1 point\n",
    "How does the convergence compare to that of gradient descent (see\n",
    "previous question)? Let your program count the number of function and gradient evaluations and\n",
    "consider this in your comparison. Implement a stopping criterion in both methods that runs until $||x_k-x^*||_2 < 10^{-5}$.\n"
   ]
  },
  {
   "cell_type": "code",
   "execution_count": 5,
   "metadata": {
    "deletable": false,
    "nbgrader": {
     "cell_type": "code",
     "checksum": "0dfefdec3f9ebdbe35785b91add0e5a0",
     "grade": true,
     "grade_id": "cell-1a5c2e9c0f9cf5f1",
     "locked": false,
     "points": 1,
     "schema_version": 3,
     "solution": true,
     "task": false
    }
   },
   "outputs": [
    {
     "name": "stdout",
     "output_type": "stream",
     "text": [
      "(array([0.99999554, 0.99999105]), 6935)\n",
      "(array([0.9999957, 0.999992 ]), 46)\n"
     ]
    }
   ],
   "source": [
    "def grad_descent(x):\n",
    "    count=0\n",
    "    while(scipy.linalg.norm(x-np.array([1,1]),2)>=1e-5):\n",
    "        s=-1*gradf(x)\n",
    "        alpha=line_search(rosenbrock,gradf,x,s)[0]\n",
    "        x=x+alpha*s\n",
    "        count+=1\n",
    "    return x,count\n",
    "        \n",
    "def BFGS_v1(x,H):\n",
    "    count=0\n",
    "    while(scipy.linalg.norm(x-np.array([1,1]),2)>=1e-5):\n",
    "        grad=gradf(x)\n",
    "        s=solve(H,-1*grad)\n",
    "        x=x+s\n",
    "        y=np.mat(gradf(x)-grad).T\n",
    "        s=np.mat(s).T\n",
    "        H=H+y*y.T/(y.T*s)-(H*s*s.T*H)/(s.T*H*s)\n",
    "        count+=1\n",
    "    return x,count\n",
    "\n",
    "x0=np.array([0,0])\n",
    "H0=np.identity(2)\n",
    "print(grad_descent(x0))\n",
    "print(BFGS_v1(x0,H0))\n",
    "    "
   ]
  },
  {
   "cell_type": "markdown",
   "metadata": {
    "deletable": false,
    "nbgrader": {
     "cell_type": "markdown",
     "checksum": "51bd680ac4a7ef5027b77282583d4d95",
     "grade": true,
     "grade_id": "cell-4f850d5c2d8ea5dc",
     "locked": false,
     "points": 0,
     "schema_version": 3,
     "solution": true,
     "task": false
    }
   },
   "source": [
    "#### Computational cost\n",
    "BFGS is a Quasi-Newton method with a superlinear convergence, larger than linear convergence (close to 1) of Steepest Descent method. In this experiment, BFGS needs 46 iterations and Steepest Decent method needs more than 6900 iterations to reach same accuracy. Hence, these two algorithm has a huge difference in compuational cost.\n",
    "#### Behaviour\n",
    "According to the converging curve, the steepest descent method keep converging towards the target point at every iteration.\n",
    "However, the BFGS demonstrate fluctuating error during converging process. "
   ]
  }
 ],
 "metadata": {
  "kernelspec": {
   "display_name": "Python 3",
   "language": "python",
   "name": "python3"
  },
  "language_info": {
   "codemirror_mode": {
    "name": "ipython",
    "version": 3
   },
   "file_extension": ".py",
   "mimetype": "text/x-python",
   "name": "python",
   "nbconvert_exporter": "python",
   "pygments_lexer": "ipython3",
   "version": "3.8.3"
  }
 },
 "nbformat": 4,
 "nbformat_minor": 2
}
