{
 "cells": [
  {
   "cell_type": "markdown",
   "metadata": {},
   "source": [
    "Before you turn this problem in, make sure everything runs as expected. First, **restart the kernel** (in the menubar, select Kernel$\\rightarrow$Restart) and then **run all cells** (in the menubar, select Cell$\\rightarrow$Run All).\n",
    "\n",
    "Make sure you fill in any place that says `YOUR CODE HERE` or \"YOUR ANSWER HERE\", as well as your name and collaborators below:"
   ]
  },
  {
   "cell_type": "code",
   "execution_count": 1,
   "metadata": {},
   "outputs": [],
   "source": [
    "NAME = \"WENBO SUN\"\n",
    "COLLABORATORS = \"SHUAI WANG\""
   ]
  },
  {
   "cell_type": "markdown",
   "metadata": {
    "deletable": false,
    "editable": false,
    "nbgrader": {
     "cell_type": "markdown",
     "checksum": "b654779fd1e07660ee9040748a45c822",
     "grade": false,
     "grade_id": "cell-2b750b36b629bca4",
     "locked": true,
     "schema_version": 3,
     "solution": false,
     "task": false
    }
   },
   "source": [
    "---\n",
    "# Homework set 2"
   ]
  },
  {
   "cell_type": "markdown",
   "metadata": {
    "deletable": false,
    "editable": false,
    "nbgrader": {
     "cell_type": "markdown",
     "checksum": "a9787e9089b1ce6573ede5ca4859755c",
     "grade": false,
     "grade_id": "cell-83825325139a7870",
     "locked": true,
     "schema_version": 3,
     "solution": false,
     "task": false
    }
   },
   "source": [
    "# Exercise 0\n",
    "Write down the names + student ID of the people in your group."
   ]
  },
  {
   "cell_type": "markdown",
   "metadata": {
    "deletable": false,
    "nbgrader": {
     "cell_type": "markdown",
     "checksum": "ce773beeedf2878578755c4d5158a99c",
     "grade": true,
     "grade_id": "cell-629562588dd70ec7",
     "locked": false,
     "points": 0,
     "schema_version": 3,
     "solution": true,
     "task": false
    }
   },
   "source": [
    "WENBO SUN 13087347 \\\n",
    "SHUAI WANG 13128051"
   ]
  },
  {
   "cell_type": "markdown",
   "metadata": {
    "deletable": false,
    "editable": false,
    "nbgrader": {
     "cell_type": "markdown",
     "checksum": "9be04587fb7e5cb7b60d658cd3953fa3",
     "grade": false,
     "grade_id": "cell-4f5d0e698cfd8edb",
     "locked": true,
     "schema_version": 3,
     "solution": false,
     "task": false
    }
   },
   "source": [
    "Run the following cell to import the nessecary packages."
   ]
  },
  {
   "cell_type": "code",
   "execution_count": 2,
   "metadata": {},
   "outputs": [],
   "source": [
    "import scipy.linalg as la\n",
    "import numpy as np\n",
    "import matplotlib.pyplot as plt"
   ]
  },
  {
   "cell_type": "markdown",
   "metadata": {
    "deletable": false,
    "editable": false,
    "nbgrader": {
     "cell_type": "markdown",
     "checksum": "236c54fa66cc884cbc2250b72b0c5b1d",
     "grade": false,
     "grade_id": "cell-072e3c5da42a861f",
     "locked": true,
     "schema_version": 3,
     "solution": false,
     "task": false
    }
   },
   "source": [
    "-----\n",
    "# Exercise 1 (2.1 on the Exercise sheet)\n",
    "\n",
    "##### NOTE: You may also submit Exercise 1 as a pdf of your handwritten solutions if you prefer. If so, indicate this where you would put your answers below"
   ]
  },
  {
   "cell_type": "markdown",
   "metadata": {
    "deletable": false,
    "editable": false,
    "nbgrader": {
     "cell_type": "markdown",
     "checksum": "9a50bd11f56e4ff93a3a3f5d9c5a8012",
     "grade": false,
     "grade_id": "cell-306494218416f215",
     "locked": true,
     "schema_version": 3,
     "solution": false,
     "task": false
    }
   },
   "source": [
    "## (a) 1 point\n",
    "Let $A$ be the matrix $\\begin{bmatrix} 1 & -1 & \\alpha \\\\ 2 & 2 & 1 \\\\ 0 & \\alpha & -3/2 \\end{bmatrix}$. For which values of $\\alpha$ is $A$ singular?"
   ]
  },
  {
   "cell_type": "markdown",
   "metadata": {
    "deletable": false,
    "nbgrader": {
     "cell_type": "markdown",
     "checksum": "6f565c8300533b6526b848adcdc26ca9",
     "grade": true,
     "grade_id": "cell-3d33896a965d92eb",
     "locked": false,
     "points": 1,
     "schema_version": 3,
     "solution": true,
     "task": false
    }
   },
   "source": [
    "##### handwriting solution in the pdf"
   ]
  },
  {
   "cell_type": "markdown",
   "metadata": {
    "deletable": false,
    "editable": false,
    "nbgrader": {
     "cell_type": "markdown",
     "checksum": "159c12af7394fe143a6d9209a7b8425b",
     "grade": false,
     "grade_id": "cell-993d7ad099a6c517",
     "locked": true,
     "schema_version": 3,
     "solution": false,
     "task": false
    }
   },
   "source": [
    "## (b) 1 point\n",
    "Consider the following linear system of equations:\n",
    "$$\n",
    "\\begin{align*}\n",
    "2x + y + z & = 3 \\\\\n",
    "2x - y + 3z &= 5 \\\\\n",
    "-2x + \\alpha y + 3z &= 1.\n",
    "\\end{align*}\n",
    "$$\n",
    "For what values of $\\alpha$ does this system have an infinite number of solutions?"
   ]
  },
  {
   "cell_type": "markdown",
   "metadata": {
    "deletable": false,
    "nbgrader": {
     "cell_type": "markdown",
     "checksum": "c61c0f97e445ed0c974a29efa0f28fda",
     "grade": true,
     "grade_id": "cell-053e45d5469e3352",
     "locked": false,
     "points": 1,
     "schema_version": 3,
     "solution": true,
     "task": false
    }
   },
   "source": [
    "##### handwriting solution in the pdf"
   ]
  },
  {
   "cell_type": "markdown",
   "metadata": {
    "deletable": false,
    "editable": false,
    "nbgrader": {
     "cell_type": "markdown",
     "checksum": "db4d987555967c757cb021cd1f78b7df",
     "grade": false,
     "grade_id": "cell-d87d3f6d9564df45",
     "locked": true,
     "schema_version": 3,
     "solution": false,
     "task": false
    }
   },
   "source": [
    "## (c) 2 points\n",
    "Denote the columns of an $n \\times n$ matrix $A$ as $A_k$ for $k=1,\\ldots,n$. We define the function $||A||_* = \\max_k ||A_k||_2$. Show that $||A||_*$ is a norm, in that it satisfies the first three properties of a matrix norm (cf. §2.3.2)."
   ]
  },
  {
   "cell_type": "markdown",
   "metadata": {
    "deletable": false,
    "nbgrader": {
     "cell_type": "markdown",
     "checksum": "5be436de682d5b89b837349c8efc6150",
     "grade": true,
     "grade_id": "cell-85404d0ebae15448",
     "locked": false,
     "points": 2,
     "schema_version": 3,
     "solution": true,
     "task": false
    }
   },
   "source": [
    "##### handwriting solution in the pdf"
   ]
  },
  {
   "cell_type": "markdown",
   "metadata": {
    "deletable": false,
    "editable": false,
    "nbgrader": {
     "cell_type": "markdown",
     "checksum": "b479ad41889654378d2baf8f57567f97",
     "grade": false,
     "grade_id": "cell-f9b678556cbbca76",
     "locked": true,
     "schema_version": 3,
     "solution": false,
     "task": false
    }
   },
   "source": [
    "----\n",
    "# Exercise 2\n",
    "For solving linear systems such as $Ax = b$, it is unnecessary (and often unstable) to compute the inverse $A^{-1}$. Nonetheless, there can be situations where it is useful to compute $A^{-1}$ explicitly. One way to do so is by using the LU-decomposition of $A$."
   ]
  },
  {
   "cell_type": "markdown",
   "metadata": {
    "deletable": false,
    "editable": false,
    "nbgrader": {
     "cell_type": "markdown",
     "checksum": "565e3b2b1ee30b9dbdecfa831dac654f",
     "grade": false,
     "grade_id": "cell-2a60097255e3d1b5",
     "locked": true,
     "schema_version": 3,
     "solution": false,
     "task": false
    }
   },
   "source": [
    "## (a) 2 points\n",
    "Write an algorithm to compute $A^{-1}$ for a non-singular matrix $A$ using its LU-decomposition. You can use `scipy.linalg.lu` (which returns an LU-decomposition with _partial pivoting_, i.e., with a permutation matrix $P$) and the other `scipy.linalg.lu_*` functions, but not `scipy.linalg.inv` (or other methods for computing matrix inverses directly)."
   ]
  },
  {
   "cell_type": "code",
   "execution_count": 16,
   "metadata": {
    "deletable": false,
    "nbgrader": {
     "cell_type": "code",
     "checksum": "b011ebd554ea10da4a53655bdadd6383",
     "grade": true,
     "grade_id": "cell-6f892d33e776e31f",
     "locked": false,
     "points": 2,
     "schema_version": 3,
     "solution": true,
     "task": false
    }
   },
   "outputs": [],
   "source": [
    "def invertL(lower):\n",
    "    n=lower.shape[0]\n",
    "    I=np.identity(n)\n",
    "    for i in range(n):\n",
    "        for temp in range(0,i+1):\n",
    "            I[i,temp]=I[i,temp]/lower[i,i]\n",
    "        for j in range(i+1,n):\n",
    "            coef= -lower[j,i]\n",
    "            for k in range(0,n):\n",
    "                I[j,k]+=(coef*I[i,k])\n",
    "    return I\n",
    "    \n",
    "def invertU(upper):\n",
    "    n=upper.shape[0]\n",
    "    I=np.identity(n)\n",
    "    for i in range(n-1,-1,-1):\n",
    "        for temp in range(n-1,i-1,-1):\n",
    "            I[i,temp]=I[i,temp]/upper[i,i]\n",
    "        for j in range(i-1,-1,-1):\n",
    "            coef= -upper[j,i]\n",
    "            for k in range(n-1,-1,-1):\n",
    "                I[j,k]+=(coef*I[i,k])\n",
    "    return I\n",
    "\n",
    "def invert(A):\n",
    "    #invert the matrix A\n",
    "    p,l,u=la.lu(A)\n",
    "    A_inv=np.matmul(np.matmul(invertU(u),invertL(l)),p.T)\n",
    "    return A_inv\n"
   ]
  },
  {
   "cell_type": "code",
   "execution_count": 22,
   "metadata": {},
   "outputs": [
    {
     "name": "stdout",
     "output_type": "stream",
     "text": [
      "test matrix is:  [[    4     8    12]\n",
      " [   16    39   104]\n",
      " [    8     7 -2640]]\n",
      "invert(invert(test matrix)) function is: [[    4.     8.    12.]\n",
      " [   16.    39.   104.]\n",
      " [    8.     7. -2640.]]\n"
     ]
    }
   ],
   "source": [
    "a=np.tril([[2,2,3],[8,-7,6],[4,9,-27]])\n",
    "b=invertL(a)\n",
    "c= np.triu([[2,4,6],[0,-1,-8],[0,0,96]])\n",
    "d=invertU(c)\n",
    "\n",
    "print(\"test matrix is: \",np.matmul(a,c))\n",
    "print(\"invert(invert(test matrix)) function is:\", invert(invert(np.matmul(a,c))))"
   ]
  },
  {
   "cell_type": "markdown",
   "metadata": {},
   "source": [
    "## (b) 1 point\n",
    "What is the computational complexity of your algorithm, given that the input matrix has size $n \\times n$?\n",
    "Give a short calculation/explanation for your answer."
   ]
  },
  {
   "cell_type": "markdown",
   "metadata": {
    "deletable": false,
    "nbgrader": {
     "cell_type": "markdown",
     "checksum": "2dd9d0b893218b8e70d7a0a66f09e514",
     "grade": true,
     "grade_id": "cell-a15cf95231b8aa77",
     "locked": false,
     "points": 1,
     "schema_version": 3,
     "solution": true,
     "task": false
    }
   },
   "source": [
    "```python\n",
    "def invertL(lower):\n",
    "    n=lower.shape[0]\n",
    "    I=np.identity(n)\n",
    "    for i in range(n):\n",
    "        for temp in range(0,i+1):\n",
    "            I[i,temp]=I[i,temp]/lower[i,i]\n",
    "        for j in range(i+1,n):\n",
    "            coef= -lower[j,i]\n",
    "            for k in range(0,n):\n",
    "                I[j,k]+=(coef*I[i,k])\n",
    "    return I\n",
    "```\n",
    "The invert algorithm we implemented involves in two subprogrames. They share the similar procedure.\n",
    "Consider the function invertL. For each loop from i=0 to n-1, the nested layer has two sub-loops. \n",
    "Given i, we have the total number of operations of both two invert procedure is:\n",
    "$$\n",
    "\\begin{align}\n",
    "    &2(\\sum_{i=1}^{n}i+\\sum_{i=1}^{n}n(n-i+1)) \\\\\n",
    "    &=2\\sum_{i=1}^{n}(n-1)(n-i) \\\\\n",
    "    &=n(n-1)^2 \\\\\n",
    "    &=\\mathcal{O}(n^3)\n",
    "\\end{align}\n",
    "$$"
   ]
  },
  {
   "cell_type": "markdown",
   "metadata": {},
   "source": [
    "## (c) 1 point\n",
    "Apply your Python code to compute the inverse of the Hilbert matrix $H_n$ for $n=1, \\ldots, 12$ (see https://en.wikipedia.org/wiki/Hilbert_matrix) -- you can use `scipy.linalg.hilbert`. This matrix is _very_ ill-conditioned, so computing its inverse is very hard for large $n$.\n",
    "\n",
    "Compare the inverse with the \"true\" inverse given by `scipy.linalg.invhilbert`. Output a (`plt.semilogy`) graph showing how the $\\infty$-norm of their difference progresses for $n$."
   ]
  },
  {
   "cell_type": "code",
   "execution_count": 28,
   "metadata": {
    "deletable": false,
    "nbgrader": {
     "cell_type": "code",
     "checksum": "ad85202f0d883b6defba9ace3b0791a7",
     "grade": true,
     "grade_id": "cell-2a66f34c0f8c604a",
     "locked": false,
     "points": 1,
     "schema_version": 3,
     "solution": true,
     "task": false
    }
   },
   "outputs": [
    {
     "data": {
      "image/png": "[encoded data removed]",
      "text/plain": [
       "<Figure size 432x288 with 1 Axes>"
      ]
     },
     "metadata": {
      "needs_background": "light"
     },
     "output_type": "display_data"
    }
   ],
   "source": [
    "# YOUR CODE HERE\n",
    "def norm_row(a):\n",
    "    n=a.shape[0]\n",
    "    m=0.0\n",
    "    for i in range(n):\n",
    "        norm=np.sum(np.abs(a[i]))\n",
    "        if norm>m:\n",
    "            m=norm\n",
    "    return m\n",
    "\n",
    "norm_inv=[]\n",
    "for i in range(1,13):\n",
    "    h=la.hilbert(i)\n",
    "    inv_h=invert(h)\n",
    "    t_inv_h=la.invhilbert(i)\n",
    "    dif=t_inv_h-inv_h\n",
    "    m_i=norm_row(dif)\n",
    "    norm_inv.append(m_i)\n",
    "f=plt.figure()\n",
    "plt.semilogy(range(1,13),norm_inv)\n",
    "plt.title(\"infinite-norm of difference\")\n",
    "plt.xlabel(\"order N of Hilbert matrix\")\n",
    "plt.ylabel(\"value\")\n",
    "plt.show()\n"
   ]
  },
  {
   "cell_type": "markdown",
   "metadata": {
    "deletable": false,
    "editable": false,
    "nbgrader": {
     "cell_type": "markdown",
     "checksum": "00b61b86ab4ed2cb1ee322906683d0cc",
     "grade": false,
     "grade_id": "cell-bad121f5da89727d",
     "locked": true,
     "schema_version": 3,
     "solution": false,
     "task": false
    }
   },
   "source": [
    "## (d) 2 points\n",
    "It is known that the $2$-condition number $cond_2(H_n)$ of the Hilbert matrix grows like $\\mathcal O\\left(\\frac{(1+\\sqrt{2})^{4n}}{\\sqrt{n}}\\right)$. Does the $\\infty$-condition number (defined in Example 2.5) of $H_n$ grow in a similar way?\n",
    "For the matrix inverse, try both your own matrix inversion routine, and `scipy.linalg.invhilbert`. Output a (`plt.semilogy`) graph showing your results."
   ]
  },
  {
   "cell_type": "code",
   "execution_count": 23,
   "metadata": {
    "deletable": false,
    "nbgrader": {
     "cell_type": "code",
     "checksum": "ec6405bc5f0f4ec4d0348d58de70d19c",
     "grade": true,
     "grade_id": "cell-5d826880c65b8b93",
     "locked": false,
     "points": 2,
     "schema_version": 3,
     "solution": true,
     "task": false
    }
   },
   "outputs": [
    {
     "data": {
      "image/png": "[encoded data removed]",
      "text/plain": [
       "<Figure size 432x288 with 1 Axes>"
      ]
     },
     "metadata": {
      "needs_background": "light"
     },
     "output_type": "display_data"
    }
   ],
   "source": [
    "# YOUR CODE HERE\n",
    "own=[]\n",
    "sys=[]\n",
    "coef=[]\n",
    "for i in range(1,18):\n",
    "    h=la.hilbert(i)\n",
    "    t_inv_h=la.invhilbert(i)\n",
    "    inv_h=invert(h)\n",
    "    norm_h=norm_row(h)\n",
    "    norm_inv=norm_row(inv_h)\n",
    "    norm_t_inv=norm_row(t_inv_h)\n",
    "    own.append(norm_h*norm_inv)\n",
    "    sys.append(norm_h*norm_t_inv)\n",
    "    coef.append((1+np.sqrt(2))**(4*i)/np.sqrt(i))\n",
    "f=plt.figure()\n",
    "plt.semilogy(range(1,18),own, label = \"self-implement\")\n",
    "plt.semilogy(range(1,18),sys, label= \"scipy.linalg.invhilbert\")\n",
    "plt.semilogy(range(1,18),coef, label = \"2-condition number\")\n",
    "plt.legend()\n",
    "plt.xlabel(\"order N of Hilbert matrix\")\n",
    "plt.ylabel(\"value\")\n",
    "plt.title(\"Hilbert matrix condition number evolution curve\")\n",
    "plt.show()"
   ]
  }
 ],
 "metadata": {
  "kernelspec": {
   "display_name": "Python 3",
   "language": "python",
   "name": "python3"
  },
  "language_info": {
   "codemirror_mode": {
    "name": "ipython",
    "version": 3
   },
   "file_extension": ".py",
   "mimetype": "text/x-python",
   "name": "python",
   "nbconvert_exporter": "python",
   "pygments_lexer": "ipython3",
   "version": "3.8.3"
  }
 },
 "nbformat": 4,
 "nbformat_minor": 2
}
